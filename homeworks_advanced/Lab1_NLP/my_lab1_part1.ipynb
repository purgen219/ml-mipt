{
  "nbformat": 4,
  "nbformat_minor": 0,
  "metadata": {
    "anaconda-cloud": {},
    "colab": {
      "name": "homework.ipynb",
      "provenance": [],
      "collapsed_sections": [],
      "machine_shape": "hm",
      "include_colab_link": true
    },
    "kernelspec": {
      "name": "python3",
      "display_name": "Python 3"
    },
    "accelerator": "GPU"
  },
  "cells": [
    {
      "cell_type": "markdown",
      "metadata": {
        "id": "view-in-github",
        "colab_type": "text"
      },
      "source": [
        "<a href=\"https://colab.research.google.com/github/purgen219/ml-mipt/blob/master/homeworks_advanced/Lab1_NLP/my_lab1_part1.ipynb\" target=\"_parent\"><img src=\"https://colab.research.google.com/assets/colab-badge.svg\" alt=\"Open In Colab\"/></a>"
      ]
    },
    {
      "cell_type": "markdown",
      "metadata": {
        "colab_type": "text",
        "id": "eulvfJWl7ueY"
      },
      "source": [
        "# Lab 1\n",
        "\n",
        "\n",
        "## Part 1: Bilingual dictionary induction and unsupervised embedding-based MT (30%)\n",
        "*Note: this homework is based on materials from yandexdataschool [NLP course](https://github.com/yandexdataschool/nlp_course/). Feel free to check this awesome course if you wish to dig deeper.*\n",
        "\n",
        "*Refined by [Nikolay Karpachev](https://www.linkedin.com/in/nikolay-karpachev-b0146a104/)*"
      ]
    },
    {
      "cell_type": "markdown",
      "metadata": {
        "colab_type": "text",
        "id": "fV4rIjxa7uei"
      },
      "source": [
        "**In this homework** **<font color='red'>YOU</font>** will make machine translation system without using parallel corpora, alignment, attention, 100500 depth super-cool recurrent neural network and all that kind superstuff.\n",
        "\n",
        "But even without parallel corpora this system can be good enough (hopefully), in particular for similar languages, e.g. Ukrainian and Russian. "
      ]
    },
    {
      "cell_type": "markdown",
      "metadata": {
        "colab_type": "text",
        "id": "idSYq2GU7uew"
      },
      "source": [
        "### Frament of the Swadesh list for some slavic languages\n",
        "\n",
        "The Swadesh list is a lexicostatistical stuff. It's named after American linguist Morris Swadesh and contains basic lexis. This list are used to define subgroupings of languages, its relatedness.\n",
        "\n",
        "So we can see some kind of word invariance for different Slavic languages.\n",
        "\n",
        "\n",
        "| Russian         | Belorussian              | Ukrainian               | Polish             | Czech                         | Bulgarian            |\n",
        "|-----------------|--------------------------|-------------------------|--------------------|-------------------------------|-----------------------|\n",
        "| женщина         | жанчына, кабета, баба    | жінка                   | kobieta            | žena                          | жена                  |\n",
        "| мужчина         | мужчына                  | чоловік, мужчина        | mężczyzna          | muž                           | мъж                   |\n",
        "| человек         | чалавек                  | людина, чоловік         | człowiek           | člověk                        | човек                 |\n",
        "| ребёнок, дитя   | дзіця, дзіцёнак, немаўля | дитина, дитя            | dziecko            | dítě                          | дете                  |\n",
        "| жена            | жонка                    | дружина, жінка          | żona               | žena, manželka, choť          | съпруга, жена         |\n",
        "| муж             | муж, гаспадар            | чоловiк, муж            | mąż                | muž, manžel, choť             | съпруг, мъж           |\n",
        "| мать, мама      | маці, матка              | мати, матір, неня, мама | matka              | matka, máma, 'стар.' mateř    | майка                 |\n",
        "| отец, тятя      | бацька, тата             | батько, тато, татусь    | ojciec             | otec                          | баща, татко           |\n",
        "| много           | шмат, багата             | багато                  | wiele              | mnoho, hodně                  | много                 |\n",
        "| несколько       | некалькі, колькі         | декілька, кілька        | kilka              | několik, pár, trocha          | няколко               |\n",
        "| другой, иной    | іншы                     | інший                   | inny               | druhý, jiný                   | друг                  |\n",
        "| зверь, животное | жывёла, звер, істота     | тварина, звір           | zwierzę            | zvíře                         | животно               |\n",
        "| рыба            | рыба                     | риба                    | ryba               | ryba                          | риба                  |\n",
        "| птица           | птушка                   | птах, птиця             | ptak               | pták                          | птица                 |\n",
        "| собака, пёс     | сабака                   | собака, пес             | pies               | pes                           | куче, пес             |\n",
        "| вошь            | вош                      | воша                    | wesz               | veš                           | въшка                 |\n",
        "| змея, гад       | змяя                     | змія, гад               | wąż                | had                           | змия                  |\n",
        "| червь, червяк   | чарвяк                   | хробак, черв'як         | robak              | červ                          | червей                |\n",
        "| дерево          | дрэва                    | дерево                  | drzewo             | strom, dřevo                  | дърво                 |\n",
        "| лес             | лес                      | ліс                     | las                | les                           | гора, лес             |\n",
        "| палка           | кій, палка               | палиця                  | patyk, pręt, pałka | hůl, klacek, prut, kůl, pálka | палка, пръчка, бастун |"
      ]
    },
    {
      "cell_type": "markdown",
      "metadata": {
        "colab_type": "text",
        "id": "cNM3_fjr7ue2"
      },
      "source": [
        "But the context distribution of these languages demonstrates even more invariance. And we can use this fact for our for our purposes."
      ]
    },
    {
      "cell_type": "markdown",
      "metadata": {
        "colab_type": "text",
        "id": "YLppwa527ue6"
      },
      "source": [
        "## Data"
      ]
    },
    {
      "cell_type": "code",
      "metadata": {
        "colab_type": "code",
        "id": "lYBGKAUn7ue_",
        "colab": {}
      },
      "source": [
        "import gensim\n",
        "import numpy as np\n",
        "from gensim.models import KeyedVectors"
      ],
      "execution_count": 0,
      "outputs": []
    },
    {
      "cell_type": "markdown",
      "metadata": {
        "colab_type": "text",
        "id": "MwGoVhRA7ufP"
      },
      "source": [
        "In this notebook we're going to use pretrained word vectors - FastText (original paper - https://arxiv.org/abs/1607.04606).\n",
        "\n",
        "You can download them from the official [website](https://fasttext.cc/docs/en/crawl-vectors.html). We're going to need embeddings for Russian and Ukrainian languages. Please use word2vec-compatible format (.text)."
      ]
    },
    {
      "cell_type": "code",
      "metadata": {
        "id": "8Q_-QixzYZjc",
        "colab_type": "code",
        "colab": {
          "base_uri": "https://localhost:8080/",
          "height": 413
        },
        "outputId": "514744aa-d54c-42b4-9cae-8332532b671f"
      },
      "source": [
        "! wget https://dl.fbaipublicfiles.com/fasttext/vectors-crawl/cc.uk.300.vec.gz\n",
        "! wget https://dl.fbaipublicfiles.com/fasttext/vectors-crawl/cc.ru.300.vec.gz"
      ],
      "execution_count": 4,
      "outputs": [
        {
          "output_type": "stream",
          "text": [
            "--2020-03-18 16:08:06--  https://dl.fbaipublicfiles.com/fasttext/vectors-crawl/cc.uk.300.vec.gz\n",
            "Resolving dl.fbaipublicfiles.com (dl.fbaipublicfiles.com)... 104.20.6.166, 104.20.22.166, 2606:4700:10::6814:16a6, ...\n",
            "Connecting to dl.fbaipublicfiles.com (dl.fbaipublicfiles.com)|104.20.6.166|:443... connected.\n",
            "HTTP request sent, awaiting response... 200 OK\n",
            "Length: 1257595219 (1.2G) [binary/octet-stream]\n",
            "Saving to: ‘cc.uk.300.vec.gz.1’\n",
            "\n",
            "cc.uk.300.vec.gz.1  100%[===================>]   1.17G  50.0MB/s    in 27s     \n",
            "\n",
            "2020-03-18 16:08:33 (44.7 MB/s) - ‘cc.uk.300.vec.gz.1’ saved [1257595219/1257595219]\n",
            "\n",
            "--2020-03-18 16:08:35--  https://dl.fbaipublicfiles.com/fasttext/vectors-crawl/cc.ru.300.vec.gz\n",
            "Resolving dl.fbaipublicfiles.com (dl.fbaipublicfiles.com)... 104.20.6.166, 104.20.22.166, 2606:4700:10::6814:16a6, ...\n",
            "Connecting to dl.fbaipublicfiles.com (dl.fbaipublicfiles.com)|104.20.6.166|:443... connected.\n",
            "HTTP request sent, awaiting response... 200 OK\n",
            "Length: 1306357571 (1.2G) [binary/octet-stream]\n",
            "Saving to: ‘cc.ru.300.vec.gz.1’\n",
            "\n",
            "cc.ru.300.vec.gz.1  100%[===================>]   1.22G  46.1MB/s    in 29s     \n",
            "\n",
            "2020-03-18 16:09:05 (42.3 MB/s) - ‘cc.ru.300.vec.gz.1’ saved [1306357571/1306357571]\n",
            "\n"
          ],
          "name": "stdout"
        }
      ]
    },
    {
      "cell_type": "code",
      "metadata": {
        "id": "C28SI6cdYwkY",
        "colab_type": "code",
        "colab": {}
      },
      "source": [
        "! gzip -d cc.uk.300.vec.gz\n",
        "! gzip -d cc.ru.300.vec.gz"
      ],
      "execution_count": 0,
      "outputs": []
    },
    {
      "cell_type": "code",
      "metadata": {
        "colab_type": "code",
        "id": "u1JjQv_97ufT",
        "colab": {
          "base_uri": "https://localhost:8080/",
          "height": 73
        },
        "outputId": "6a8dc9a8-40d6-4390-b60a-e20942079193"
      },
      "source": [
        "uk_emb = KeyedVectors.load_word2vec_format(\"cc.uk.300.vec\")"
      ],
      "execution_count": 6,
      "outputs": [
        {
          "output_type": "stream",
          "text": [
            "/usr/local/lib/python3.6/dist-packages/smart_open/smart_open_lib.py:402: UserWarning: This function is deprecated, use smart_open.open instead. See the migration notes for details: https://github.com/RaRe-Technologies/smart_open/blob/master/README.rst#migrating-to-the-new-open-function\n",
            "  'See the migration notes for details: %s' % _MIGRATION_NOTES_URL\n"
          ],
          "name": "stderr"
        }
      ]
    },
    {
      "cell_type": "code",
      "metadata": {
        "colab_type": "code",
        "id": "ffzuept_7ufd",
        "colab": {
          "base_uri": "https://localhost:8080/",
          "height": 73
        },
        "outputId": "5687e54d-9891-44d7-8246-330d31078d2e"
      },
      "source": [
        "ru_emb = KeyedVectors.load_word2vec_format(\"cc.ru.300.vec\")"
      ],
      "execution_count": 7,
      "outputs": [
        {
          "output_type": "stream",
          "text": [
            "/usr/local/lib/python3.6/dist-packages/smart_open/smart_open_lib.py:402: UserWarning: This function is deprecated, use smart_open.open instead. See the migration notes for details: https://github.com/RaRe-Technologies/smart_open/blob/master/README.rst#migrating-to-the-new-open-function\n",
            "  'See the migration notes for details: %s' % _MIGRATION_NOTES_URL\n"
          ],
          "name": "stderr"
        }
      ]
    },
    {
      "cell_type": "code",
      "metadata": {
        "colab_type": "code",
        "id": "nTkXfT0W7ufk",
        "colab": {
          "base_uri": "https://localhost:8080/",
          "height": 253
        },
        "outputId": "551e7fed-8f58-408e-b6ba-53a390c6b7b2"
      },
      "source": [
        "ru_emb.most_similar([ru_emb[\"август\"]], topn=10)"
      ],
      "execution_count": 8,
      "outputs": [
        {
          "output_type": "stream",
          "text": [
            "/usr/local/lib/python3.6/dist-packages/gensim/matutils.py:737: FutureWarning: Conversion of the second argument of issubdtype from `int` to `np.signedinteger` is deprecated. In future, it will be treated as `np.int64 == np.dtype(int).type`.\n",
            "  if np.issubdtype(vec.dtype, np.int):\n"
          ],
          "name": "stderr"
        },
        {
          "output_type": "execute_result",
          "data": {
            "text/plain": [
              "[('август', 1.0),\n",
              " ('июль', 0.9383153915405273),\n",
              " ('сентябрь', 0.9240028858184814),\n",
              " ('июнь', 0.9222575426101685),\n",
              " ('октябрь', 0.9095538854598999),\n",
              " ('ноябрь', 0.8930036425590515),\n",
              " ('апрель', 0.8729087114334106),\n",
              " ('декабрь', 0.8652557730674744),\n",
              " ('март', 0.8545796275138855),\n",
              " ('февраль', 0.8401416540145874)]"
            ]
          },
          "metadata": {
            "tags": []
          },
          "execution_count": 8
        }
      ]
    },
    {
      "cell_type": "code",
      "metadata": {
        "colab_type": "code",
        "id": "vdBA8lcg7ufs",
        "colab": {
          "base_uri": "https://localhost:8080/",
          "height": 253
        },
        "outputId": "9eeb6406-35ad-461b-c8a0-6e6feed7bc05"
      },
      "source": [
        "uk_emb.most_similar([uk_emb[\"серпень\"]])"
      ],
      "execution_count": 9,
      "outputs": [
        {
          "output_type": "stream",
          "text": [
            "/usr/local/lib/python3.6/dist-packages/gensim/matutils.py:737: FutureWarning: Conversion of the second argument of issubdtype from `int` to `np.signedinteger` is deprecated. In future, it will be treated as `np.int64 == np.dtype(int).type`.\n",
            "  if np.issubdtype(vec.dtype, np.int):\n"
          ],
          "name": "stderr"
        },
        {
          "output_type": "execute_result",
          "data": {
            "text/plain": [
              "[('серпень', 0.9999999403953552),\n",
              " ('липень', 0.9096440076828003),\n",
              " ('вересень', 0.901697039604187),\n",
              " ('червень', 0.8992519378662109),\n",
              " ('жовтень', 0.8810408711433411),\n",
              " ('листопад', 0.8787633776664734),\n",
              " ('квітень', 0.8592804670333862),\n",
              " ('грудень', 0.8586863279342651),\n",
              " ('травень', 0.8408110737800598),\n",
              " ('лютий', 0.8256431818008423)]"
            ]
          },
          "metadata": {
            "tags": []
          },
          "execution_count": 9
        }
      ]
    },
    {
      "cell_type": "code",
      "metadata": {
        "colab_type": "code",
        "id": "_yJvcKXO7uf0",
        "colab": {
          "base_uri": "https://localhost:8080/",
          "height": 253
        },
        "outputId": "d7094f11-fed2-4514-e254-2d84a2ae0a6d"
      },
      "source": [
        "ru_emb.most_similar([uk_emb[\"серпень\"]])"
      ],
      "execution_count": 10,
      "outputs": [
        {
          "output_type": "stream",
          "text": [
            "/usr/local/lib/python3.6/dist-packages/gensim/matutils.py:737: FutureWarning: Conversion of the second argument of issubdtype from `int` to `np.signedinteger` is deprecated. In future, it will be treated as `np.int64 == np.dtype(int).type`.\n",
            "  if np.issubdtype(vec.dtype, np.int):\n"
          ],
          "name": "stderr"
        },
        {
          "output_type": "execute_result",
          "data": {
            "text/plain": [
              "[('Stepashka.com', 0.2757962942123413),\n",
              " ('ЖИЗНИВадим', 0.25203436613082886),\n",
              " ('2Дмитрий', 0.25048112869262695),\n",
              " ('2012Дмитрий', 0.24829231202602386),\n",
              " ('Ведущий-Алексей', 0.2443869560956955),\n",
              " ('Недопустимость', 0.24435284733772278),\n",
              " ('2Михаил', 0.23981399834156036),\n",
              " ('лексей', 0.23740756511688232),\n",
              " ('комплексн', 0.23695150017738342),\n",
              " ('персональ', 0.2368222028017044)]"
            ]
          },
          "metadata": {
            "tags": []
          },
          "execution_count": 10
        }
      ]
    },
    {
      "cell_type": "markdown",
      "metadata": {
        "colab_type": "text",
        "id": "pNdYAR1q7uf6"
      },
      "source": [
        "Load small dictionaries for correspoinding words pairs as trainset and testset."
      ]
    },
    {
      "cell_type": "code",
      "metadata": {
        "colab_type": "code",
        "id": "35d_DAK67uf8",
        "colab": {}
      },
      "source": [
        "def load_word_pairs(filename):\n",
        "    uk_ru_pairs = []\n",
        "    uk_vectors = []\n",
        "    ru_vectors = []\n",
        "    with open(filename, \"r\") as inpf:\n",
        "        for line in inpf:\n",
        "            uk, ru = line.rstrip().split(\"\\t\")\n",
        "            if uk not in uk_emb or ru not in ru_emb:\n",
        "                continue\n",
        "            uk_ru_pairs.append((uk, ru))\n",
        "            uk_vectors.append(uk_emb[uk])\n",
        "            ru_vectors.append(ru_emb[ru])\n",
        "    return uk_ru_pairs, np.array(uk_vectors), np.array(ru_vectors)"
      ],
      "execution_count": 0,
      "outputs": []
    },
    {
      "cell_type": "code",
      "metadata": {
        "colab_type": "code",
        "id": "wkNL602WHJyO",
        "colab": {
          "base_uri": "https://localhost:8080/",
          "height": 377
        },
        "outputId": "fe8edb39-3aad-49bf-8565-59cbb6fa016b"
      },
      "source": [
        "!wget -O ukr_rus.train.txt http://tiny.cc/jfgecz"
      ],
      "execution_count": 12,
      "outputs": [
        {
          "output_type": "stream",
          "text": [
            "--2020-03-18 16:33:00--  http://tiny.cc/jfgecz\n",
            "Resolving tiny.cc (tiny.cc)... 192.241.240.89\n",
            "Connecting to tiny.cc (tiny.cc)|192.241.240.89|:80... connected.\n",
            "HTTP request sent, awaiting response... 301 Moved Permanently\n",
            "Location: https://tiny.cc/jfgecz [following]\n",
            "--2020-03-18 16:33:00--  https://tiny.cc/jfgecz\n",
            "Connecting to tiny.cc (tiny.cc)|192.241.240.89|:443... connected.\n",
            "HTTP request sent, awaiting response... 303 See Other\n",
            "Location: https://raw.githubusercontent.com/yandexdataschool/nlp_course/master/week01_embeddings/ukr_rus.train.txt [following]\n",
            "--2020-03-18 16:33:00--  https://raw.githubusercontent.com/yandexdataschool/nlp_course/master/week01_embeddings/ukr_rus.train.txt\n",
            "Resolving raw.githubusercontent.com (raw.githubusercontent.com)... 151.101.0.133, 151.101.64.133, 151.101.128.133, ...\n",
            "Connecting to raw.githubusercontent.com (raw.githubusercontent.com)|151.101.0.133|:443... connected.\n",
            "HTTP request sent, awaiting response... 200 OK\n",
            "Length: 59351 (58K) [text/plain]\n",
            "Saving to: ‘ukr_rus.train.txt’\n",
            "\n",
            "ukr_rus.train.txt   100%[===================>]  57.96K  --.-KB/s    in 0.01s   \n",
            "\n",
            "2020-03-18 16:33:00 (4.01 MB/s) - ‘ukr_rus.train.txt’ saved [59351/59351]\n",
            "\n"
          ],
          "name": "stdout"
        }
      ]
    },
    {
      "cell_type": "code",
      "metadata": {
        "colab_type": "code",
        "id": "uoclU6JcHCcn",
        "colab": {
          "base_uri": "https://localhost:8080/",
          "height": 377
        },
        "outputId": "d973f57d-7604-41c4-e5a7-86d63fdc8642"
      },
      "source": [
        "!wget -O ukr_rus.test.txt http://tiny.cc/6zoeez"
      ],
      "execution_count": 13,
      "outputs": [
        {
          "output_type": "stream",
          "text": [
            "--2020-03-18 16:33:02--  http://tiny.cc/6zoeez\n",
            "Resolving tiny.cc (tiny.cc)... 192.241.240.89\n",
            "Connecting to tiny.cc (tiny.cc)|192.241.240.89|:80... connected.\n",
            "HTTP request sent, awaiting response... 301 Moved Permanently\n",
            "Location: https://tiny.cc/6zoeez [following]\n",
            "--2020-03-18 16:33:02--  https://tiny.cc/6zoeez\n",
            "Connecting to tiny.cc (tiny.cc)|192.241.240.89|:443... connected.\n",
            "HTTP request sent, awaiting response... 303 See Other\n",
            "Location: https://raw.githubusercontent.com/yandexdataschool/nlp_course/master/week01_embeddings/ukr_rus.test.txt [following]\n",
            "--2020-03-18 16:33:02--  https://raw.githubusercontent.com/yandexdataschool/nlp_course/master/week01_embeddings/ukr_rus.test.txt\n",
            "Resolving raw.githubusercontent.com (raw.githubusercontent.com)... 151.101.0.133, 151.101.64.133, 151.101.128.133, ...\n",
            "Connecting to raw.githubusercontent.com (raw.githubusercontent.com)|151.101.0.133|:443... connected.\n",
            "HTTP request sent, awaiting response... 200 OK\n",
            "Length: 12188 (12K) [text/plain]\n",
            "Saving to: ‘ukr_rus.test.txt’\n",
            "\n",
            "\rukr_rus.test.txt      0%[                    ]       0  --.-KB/s               \rukr_rus.test.txt    100%[===================>]  11.90K  --.-KB/s    in 0s      \n",
            "\n",
            "2020-03-18 16:33:02 (137 MB/s) - ‘ukr_rus.test.txt’ saved [12188/12188]\n",
            "\n"
          ],
          "name": "stdout"
        }
      ]
    },
    {
      "cell_type": "code",
      "metadata": {
        "colab_type": "code",
        "id": "05BqsdSK7ugD",
        "colab": {}
      },
      "source": [
        "uk_ru_train, X_train, Y_train = load_word_pairs(\"ukr_rus.train.txt\")"
      ],
      "execution_count": 0,
      "outputs": []
    },
    {
      "cell_type": "code",
      "metadata": {
        "colab_type": "code",
        "id": "zQOZw51r7ugL",
        "colab": {}
      },
      "source": [
        "uk_ru_test, X_test, Y_test = load_word_pairs(\"ukr_rus.test.txt\")"
      ],
      "execution_count": 0,
      "outputs": []
    },
    {
      "cell_type": "markdown",
      "metadata": {
        "colab_type": "text",
        "id": "-ZBBNvpz7ugQ"
      },
      "source": [
        "## Embedding space mapping (0.3 pts)"
      ]
    },
    {
      "cell_type": "markdown",
      "metadata": {
        "colab_type": "text",
        "id": "x_Dhk5gL7ugS"
      },
      "source": [
        "Let $x_i \\in \\mathrm{R}^d$ be the distributed representation of word $i$ in the source language, and $y_i \\in \\mathrm{R}^d$ is the vector representation of its translation. Our purpose is to learn such linear transform $W$ that minimizes euclidian distance between $Wx_i$ and $y_i$ for some subset of word embeddings. Thus we can formulate so-called Procrustes problem:\n",
        "\n",
        "$$W^*= \\arg\\min_W \\sum_{i=1}^n||Wx_i - y_i||_2$$\n",
        "or\n",
        "$$W^*= \\arg\\min_W ||WX - Y||_F$$\n",
        "\n",
        "where $||*||_F$ - Frobenius norm."
      ]
    },
    {
      "cell_type": "markdown",
      "metadata": {
        "colab_type": "text",
        "id": "acOjDdtL7ugY"
      },
      "source": [
        "$W^*= \\arg\\min_W \\sum_{i=1}^n||Wx_i - y_i||_2$ looks like simple multiple linear regression (without intercept fit). So let's code."
      ]
    },
    {
      "cell_type": "code",
      "metadata": {
        "colab_type": "code",
        "id": "Lb-KN1be7uga",
        "colab": {
          "base_uri": "https://localhost:8080/",
          "height": 35
        },
        "outputId": "ebbd8afc-0f27-440b-bac1-afc66a27a0ae"
      },
      "source": [
        "from sklearn.linear_model import LinearRegression\n",
        "\n",
        "mapping = LinearRegression()\n",
        "mapping.fit(X_train, Y_train)"
      ],
      "execution_count": 16,
      "outputs": [
        {
          "output_type": "execute_result",
          "data": {
            "text/plain": [
              "LinearRegression(copy_X=True, fit_intercept=True, n_jobs=None, normalize=False)"
            ]
          },
          "metadata": {
            "tags": []
          },
          "execution_count": 16
        }
      ]
    },
    {
      "cell_type": "markdown",
      "metadata": {
        "colab_type": "text",
        "id": "X7tqJwoY7ugf"
      },
      "source": [
        "Let's take a look at neigbours of the vector of word _\"серпень\"_ (_\"август\"_ in Russian) after linear transform."
      ]
    },
    {
      "cell_type": "code",
      "metadata": {
        "colab_type": "code",
        "id": "31SrFSbn7ugi",
        "colab": {
          "base_uri": "https://localhost:8080/",
          "height": 253
        },
        "outputId": "b372ace3-42ca-4db3-bb18-028f20eabb1f"
      },
      "source": [
        "august = mapping.predict(uk_emb[\"серпень\"].reshape(1, -1))\n",
        "ru_emb.most_similar(august)"
      ],
      "execution_count": 17,
      "outputs": [
        {
          "output_type": "stream",
          "text": [
            "/usr/local/lib/python3.6/dist-packages/gensim/matutils.py:737: FutureWarning: Conversion of the second argument of issubdtype from `int` to `np.signedinteger` is deprecated. In future, it will be treated as `np.int64 == np.dtype(int).type`.\n",
            "  if np.issubdtype(vec.dtype, np.int):\n"
          ],
          "name": "stderr"
        },
        {
          "output_type": "execute_result",
          "data": {
            "text/plain": [
              "[('апрель', 0.8531403541564941),\n",
              " ('июнь', 0.8402307033538818),\n",
              " ('март', 0.8385775089263916),\n",
              " ('сентябрь', 0.8331867456436157),\n",
              " ('февраль', 0.8311493396759033),\n",
              " ('октябрь', 0.8278172016143799),\n",
              " ('ноябрь', 0.8244150280952454),\n",
              " ('июль', 0.8228995203971863),\n",
              " ('август', 0.8112362027168274),\n",
              " ('январь', 0.8022859692573547)]"
            ]
          },
          "metadata": {
            "tags": []
          },
          "execution_count": 17
        }
      ]
    },
    {
      "cell_type": "markdown",
      "metadata": {
        "colab_type": "text",
        "id": "okSkjk597ugo"
      },
      "source": [
        "We can see that neighbourhood of this embedding cosists of different months, but right variant is on the ninth place."
      ]
    },
    {
      "cell_type": "markdown",
      "metadata": {
        "colab_type": "text",
        "id": "o2uY6Y9B7ugt"
      },
      "source": [
        "As quality measure we will use precision top-1, top-5 and top-10 (for each transformed Ukrainian embedding we count how many right target pairs are found in top N nearest neighbours in Russian embedding space)."
      ]
    },
    {
      "cell_type": "code",
      "metadata": {
        "colab_type": "code",
        "id": "zptuho8LAfIE",
        "colab": {}
      },
      "source": [
        "def precision(pairs, mapped_vectors, topn=1):\n",
        "    \"\"\"\n",
        "    :args:\n",
        "        pairs = list of right word pairs [(uk_word_0, ru_word_0), ...]\n",
        "        mapped_vectors = list of embeddings after mapping from source embedding space to destination embedding space\n",
        "        topn = the number of nearest neighbours in destination embedding space to choose from\n",
        "    :returns:\n",
        "        precision_val, float number, total number of words for those we can find right translation at top K.\n",
        "    \"\"\"\n",
        "    assert len(pairs) == len(mapped_vectors)\n",
        "    num_matches = 0\n",
        "    for i, (_, ru) in enumerate(pairs):\n",
        "        ru_most_sim = ru_emb.most_similar([mapped_vectors[i]], topn=topn)\n",
        "        for (ru_, _) in ru_most_sim:\n",
        "          if ru_ == ru:\n",
        "            num_matches += 1\n",
        "    precision_val = num_matches / len(pairs)\n",
        "    return precision_val"
      ],
      "execution_count": 0,
      "outputs": []
    },
    {
      "cell_type": "code",
      "metadata": {
        "colab_type": "code",
        "id": "duhj9hpv7ugy",
        "colab": {
          "base_uri": "https://localhost:8080/",
          "height": 73
        },
        "outputId": "f78e1914-41de-4bda-a4f4-5c86cff7834f"
      },
      "source": [
        "assert precision([(\"серпень\", \"август\")], august, topn=5) == 0.0\n",
        "assert precision([(\"серпень\", \"август\")], august, topn=9) == 1.0\n",
        "assert precision([(\"серпень\", \"август\")], august, topn=10) == 1.0"
      ],
      "execution_count": 19,
      "outputs": [
        {
          "output_type": "stream",
          "text": [
            "/usr/local/lib/python3.6/dist-packages/gensim/matutils.py:737: FutureWarning: Conversion of the second argument of issubdtype from `int` to `np.signedinteger` is deprecated. In future, it will be treated as `np.int64 == np.dtype(int).type`.\n",
            "  if np.issubdtype(vec.dtype, np.int):\n"
          ],
          "name": "stderr"
        }
      ]
    },
    {
      "cell_type": "code",
      "metadata": {
        "colab_type": "code",
        "id": "0-iyd5gP7ug5",
        "colab": {
          "base_uri": "https://localhost:8080/",
          "height": 73
        },
        "outputId": "23798fbe-00ad-4ebd-c45b-837f23b8f5f2"
      },
      "source": [
        "assert precision(uk_ru_test, X_test) == 0.0\n",
        "assert precision(uk_ru_test, Y_test) == 1.0"
      ],
      "execution_count": 20,
      "outputs": [
        {
          "output_type": "stream",
          "text": [
            "/usr/local/lib/python3.6/dist-packages/gensim/matutils.py:737: FutureWarning: Conversion of the second argument of issubdtype from `int` to `np.signedinteger` is deprecated. In future, it will be treated as `np.int64 == np.dtype(int).type`.\n",
            "  if np.issubdtype(vec.dtype, np.int):\n"
          ],
          "name": "stderr"
        }
      ]
    },
    {
      "cell_type": "code",
      "metadata": {
        "colab_type": "code",
        "id": "U-ssEJ3x7uhA",
        "colab": {
          "base_uri": "https://localhost:8080/",
          "height": 109
        },
        "outputId": "68a5ac3a-803d-43c6-f4ea-6fb3ce3b6955"
      },
      "source": [
        "precision_top1 = precision(uk_ru_test, mapping.predict(X_test), 1)\n",
        "precision_top5 = precision(uk_ru_test, mapping.predict(X_test), 5)"
      ],
      "execution_count": 21,
      "outputs": [
        {
          "output_type": "stream",
          "text": [
            "/usr/local/lib/python3.6/dist-packages/gensim/matutils.py:737: FutureWarning: Conversion of the second argument of issubdtype from `int` to `np.signedinteger` is deprecated. In future, it will be treated as `np.int64 == np.dtype(int).type`.\n",
            "  if np.issubdtype(vec.dtype, np.int):\n",
            "/usr/local/lib/python3.6/dist-packages/gensim/matutils.py:737: FutureWarning: Conversion of the second argument of issubdtype from `int` to `np.signedinteger` is deprecated. In future, it will be treated as `np.int64 == np.dtype(int).type`.\n",
            "  if np.issubdtype(vec.dtype, np.int):\n"
          ],
          "name": "stderr"
        }
      ]
    },
    {
      "cell_type": "code",
      "metadata": {
        "colab_type": "code",
        "id": "7K-hy7a6Ksn2",
        "colab": {
          "base_uri": "https://localhost:8080/",
          "height": 53
        },
        "outputId": "0b3c2daa-e77e-4ea7-81eb-9c92c8d2a8f5"
      },
      "source": [
        "print(precision_top1)\n",
        "print(precision_top5)"
      ],
      "execution_count": 22,
      "outputs": [
        {
          "output_type": "stream",
          "text": [
            "0.6259541984732825\n",
            "0.7913486005089059\n"
          ],
          "name": "stdout"
        }
      ]
    },
    {
      "cell_type": "markdown",
      "metadata": {
        "colab_type": "text",
        "id": "hf6Ou8bx7uhH"
      },
      "source": [
        "## Making it better (orthogonal Procrustean problem) (0.3 pts)"
      ]
    },
    {
      "cell_type": "markdown",
      "metadata": {
        "colab_type": "text",
        "id": "4oLs-drN7uhK"
      },
      "source": [
        "It can be shown (see original paper) that a self-consistent linear mapping between semantic spaces should be orthogonal. \n",
        "We can restrict transform $W$ to be orthogonal. Then we will solve next problem:\n",
        "\n",
        "$$W^*= \\arg\\min_W ||WX - Y||_F \\text{, where: } W^TW = I$$\n",
        "\n",
        "$$I \\text{- identity matrix}$$\n",
        "\n",
        "Instead of making yet another regression problem we can find optimal orthogonal transformation using singular value decomposition. It turns out that optimal transformation $W^*$ can be expressed via SVD components:\n",
        "$$X^TY=U\\Sigma V^T\\text{, singular value decompostion}$$\n",
        "$$W^*=UV^T$$"
      ]
    },
    {
      "cell_type": "code",
      "metadata": {
        "colab_type": "code",
        "id": "_KSaRJFGMFiJ",
        "colab": {}
      },
      "source": [
        "import numpy as np"
      ],
      "execution_count": 0,
      "outputs": []
    },
    {
      "cell_type": "code",
      "metadata": {
        "colab_type": "code",
        "id": "DdFQ7qti7uhL",
        "colab": {}
      },
      "source": [
        "def learn_transform(X_train, Y_train):\n",
        "    \"\"\" \n",
        "    :returns: W* : float matrix[emb_dim x emb_dim] as defined in formulae above\n",
        "    \"\"\"\n",
        "    U, _, V_T = np.linalg.svd(X_train.T.dot(Y_train))\n",
        "    mapping = U.dot(V_T)\n",
        "\n",
        "    return mapping"
      ],
      "execution_count": 0,
      "outputs": []
    },
    {
      "cell_type": "code",
      "metadata": {
        "colab_type": "code",
        "id": "7X7QfYDd7uhQ",
        "colab": {}
      },
      "source": [
        "W = learn_transform(X_train, Y_train)"
      ],
      "execution_count": 0,
      "outputs": []
    },
    {
      "cell_type": "code",
      "metadata": {
        "colab_type": "code",
        "id": "OVOFYYa37uhX",
        "colab": {
          "base_uri": "https://localhost:8080/",
          "height": 253
        },
        "outputId": "6a4af696-7bb7-4a78-8d0f-170bfc7d746d"
      },
      "source": [
        "ru_emb.most_similar([np.matmul(uk_emb[\"серпень\"], W)])"
      ],
      "execution_count": 26,
      "outputs": [
        {
          "output_type": "stream",
          "text": [
            "/usr/local/lib/python3.6/dist-packages/gensim/matutils.py:737: FutureWarning: Conversion of the second argument of issubdtype from `int` to `np.signedinteger` is deprecated. In future, it will be treated as `np.int64 == np.dtype(int).type`.\n",
            "  if np.issubdtype(vec.dtype, np.int):\n"
          ],
          "name": "stderr"
        },
        {
          "output_type": "execute_result",
          "data": {
            "text/plain": [
              "[('апрель', 0.8245131373405457),\n",
              " ('июнь', 0.8056631088256836),\n",
              " ('сентябрь', 0.8055763244628906),\n",
              " ('март', 0.8032934069633484),\n",
              " ('октябрь', 0.798710286617279),\n",
              " ('июль', 0.7946796417236328),\n",
              " ('ноябрь', 0.7939636707305908),\n",
              " ('август', 0.7938191294670105),\n",
              " ('февраль', 0.7923860549926758),\n",
              " ('декабрь', 0.7715376615524292)]"
            ]
          },
          "metadata": {
            "tags": []
          },
          "execution_count": 26
        }
      ]
    },
    {
      "cell_type": "code",
      "metadata": {
        "colab_type": "code",
        "id": "r297sYP37uhb",
        "colab": {
          "base_uri": "https://localhost:8080/",
          "height": 109
        },
        "outputId": "45d8b331-aaf0-4ec4-822f-b9c7cc6fb397"
      },
      "source": [
        "print(precision(uk_ru_test, np.matmul(X_test, W)))\n",
        "print(precision(uk_ru_test, np.matmul(X_test, W), 5))"
      ],
      "execution_count": 27,
      "outputs": [
        {
          "output_type": "stream",
          "text": [
            "/usr/local/lib/python3.6/dist-packages/gensim/matutils.py:737: FutureWarning: Conversion of the second argument of issubdtype from `int` to `np.signedinteger` is deprecated. In future, it will be treated as `np.int64 == np.dtype(int).type`.\n",
            "  if np.issubdtype(vec.dtype, np.int):\n"
          ],
          "name": "stderr"
        },
        {
          "output_type": "stream",
          "text": [
            "0.6437659033078881\n",
            "0.7989821882951654\n"
          ],
          "name": "stdout"
        }
      ]
    },
    {
      "cell_type": "markdown",
      "metadata": {
        "colab_type": "text",
        "id": "hvUZ72U5AfJg"
      },
      "source": [
        "## Unsupervised embedding-based MT (0.4 pts)"
      ]
    },
    {
      "cell_type": "markdown",
      "metadata": {
        "colab_type": "text",
        "id": "LLyuVfHBLrJn"
      },
      "source": [
        "Now, let's build our word embeddings-based translator!"
      ]
    },
    {
      "cell_type": "markdown",
      "metadata": {
        "colab_type": "text",
        "id": "tPAURW1CMuP7"
      },
      "source": [
        "Firstly, download OPUS Tatoeba corpus."
      ]
    },
    {
      "cell_type": "code",
      "metadata": {
        "colab_type": "code",
        "id": "F80kUKzQMsDu",
        "colab": {
          "base_uri": "https://localhost:8080/",
          "height": 215
        },
        "outputId": "0329a34e-981d-4a5c-8b98-0c746cff26f6"
      },
      "source": [
        "!wget https://object.pouta.csc.fi/OPUS-Tatoeba/v20190709/mono/uk.txt.gz"
      ],
      "execution_count": 28,
      "outputs": [
        {
          "output_type": "stream",
          "text": [
            "--2020-03-18 16:39:13--  https://object.pouta.csc.fi/OPUS-Tatoeba/v20190709/mono/uk.txt.gz\n",
            "Resolving object.pouta.csc.fi (object.pouta.csc.fi)... 86.50.254.18, 86.50.254.19\n",
            "Connecting to object.pouta.csc.fi (object.pouta.csc.fi)|86.50.254.18|:443... connected.\n",
            "HTTP request sent, awaiting response... 200 OK\n",
            "Length: 1819128 (1.7M) [application/gzip]\n",
            "Saving to: ‘uk.txt.gz’\n",
            "\n",
            "uk.txt.gz           100%[===================>]   1.73M  1.70MB/s    in 1.0s    \n",
            "\n",
            "2020-03-18 16:39:15 (1.70 MB/s) - ‘uk.txt.gz’ saved [1819128/1819128]\n",
            "\n"
          ],
          "name": "stdout"
        }
      ]
    },
    {
      "cell_type": "code",
      "metadata": {
        "colab_type": "code",
        "id": "0CGFZoxCUVf1",
        "colab": {}
      },
      "source": [
        "!gzip -d ./uk.txt.gz"
      ],
      "execution_count": 0,
      "outputs": []
    },
    {
      "cell_type": "code",
      "metadata": {
        "colab_type": "code",
        "id": "2MV3VvoVUX5U",
        "colab": {}
      },
      "source": [
        "with open('./uk.txt', 'r') as f:\n",
        "    uk_corpus = f.readlines()"
      ],
      "execution_count": 0,
      "outputs": []
    },
    {
      "cell_type": "code",
      "metadata": {
        "colab_type": "code",
        "id": "tU7nPVf0UhbI",
        "colab": {}
      },
      "source": [
        "# To save your time and CPU, feel free to use first 1000 sentences of the corpus\n",
        "uk_corpus = uk_corpus[:1000]"
      ],
      "execution_count": 0,
      "outputs": []
    },
    {
      "cell_type": "code",
      "metadata": {
        "colab_type": "code",
        "id": "FLN8dBOXAfJ1",
        "colab": {}
      },
      "source": [
        "# Any necessary preprocessing if needed\n",
        "# YOUR CODE HERE"
      ],
      "execution_count": 0,
      "outputs": []
    },
    {
      "cell_type": "code",
      "metadata": {
        "id": "JHtN2vONhJcg",
        "colab_type": "code",
        "colab": {
          "base_uri": "https://localhost:8080/",
          "height": 1000
        },
        "outputId": "576c0034-e4fe-43fc-cfe8-8d33d5ad8be3"
      },
      "source": [
        "uk_corpus"
      ],
      "execution_count": 32,
      "outputs": [
        {
          "output_type": "execute_result",
          "data": {
            "text/plain": [
              "['Я вже закінчу коледж, коли ви вернетеся з Америки.\\n',\n",
              " 'Він наказав мені негайно вийти з кімнати.\\n',\n",
              " 'Як би ти не намагався, ти не вивчиш англійську за два-три місяці.\\n',\n",
              " 'Поки я не подзвонив, він не прийшов.\\n',\n",
              " 'У всесвіті багато галактик.\\n',\n",
              " 'Вона приймає душ щоранку.\\n',\n",
              " 'Неслухняний хлопчик заблукав й оглядався по сторонах.\\n',\n",
              " 'Вона повільно зникала в туманному лісі.\\n',\n",
              " 'Наш літак летів понад хмарами.\\n',\n",
              " 'У Майка є декілька друзів у Флориді.\\n',\n",
              " 'Місто бомбардували ворожі літаки.\\n',\n",
              " 'Я зустрінуся з тобою в неділю о третій.\\n',\n",
              " 'Для фінансування війни було видано облігації.\\n',\n",
              " 'Звідки беруть початок Олімпійські ігри?\\n',\n",
              " 'Я сказав собі: «Це гарна ідея».\\n',\n",
              " 'Ми збиралися пробути там біля двох тижнів.\\n',\n",
              " 'Як на мене, то наразі помовчу.\\n',\n",
              " 'Мій дядько вчора помер від раку шлунку.\\n',\n",
              " 'Здається, діти втомилися від плавання.\\n',\n",
              " 'Немає кохання без ревнощів.\\n',\n",
              " 'Можливо, я антисоціальний, але це не означає, що я не спілкуюся з людьми.\\n',\n",
              " 'Я не знаю, що ще можна зробити.\\n',\n",
              " 'Я навчився жити без неї.\\n',\n",
              " 'Справді?\\n',\n",
              " 'Мені завжди більше подобалися загадкові персонажі.\\n',\n",
              " 'Я можу тільки чекати.\\n',\n",
              " 'Тобі краще поспати.\\n',\n",
              " 'Обдумай це.\\n',\n",
              " 'Наприклад, тобі подобається англійська?\\n',\n",
              " 'Коли Вам буде зручно?\\n',\n",
              " 'Цього ранку випала роса.\\n',\n",
              " 'Про це озеро існує таємнича легенда.\\n',\n",
              " 'Я прочитав це оповідання в якійсь книзі.\\n',\n",
              " 'Том вільно розмовляє японською.\\n',\n",
              " 'Ти не знаєш, де мій годинник?\\n',\n",
              " 'Є ще одне питання, яке нам так само треба обміркувати.\\n',\n",
              " 'Читайте газети кожен день, бо інакше Ви не будете в курсі останніх новин.\\n',\n",
              " 'Ви колись літали на повітряній кулі?\\n',\n",
              " 'Чи продають в цій крамниці зошити?\\n',\n",
              " 'Я біжу якомога швидше, щоб наздогнати його.\\n',\n",
              " 'Біда не приходить одна.\\n',\n",
              " 'Дайте, будь ласка, склянку води.\\n',\n",
              " 'Не всі, хто тут живе, багаті.\\n',\n",
              " 'Ліки прискорили процес росту.\\n',\n",
              " 'Я бачив, як він біг.\\n',\n",
              " 'Я хочу, щоб ти заспівав пісню.\\n',\n",
              " 'Мені запропонували поїхати за кордон, але я не хочу.\\n',\n",
              " 'Як ти ставишся до того, щоб погуляти в парку?\\n',\n",
              " 'Це найкращий ресторан з морепродуктами в цьому районі.\\n',\n",
              " 'Наближається Різдво.\\n',\n",
              " 'Подивися на той дим.\\n',\n",
              " 'Широкими лініями на карті позначені дороги.\\n',\n",
              " 'Мені не треба було поливати квіти.\\n',\n",
              " 'Як раз коли я закінчив, почався дощ.\\n',\n",
              " 'Я передзвоню тобі пізніше.\\n',\n",
              " 'Він сказав, що збирається ризикнути.\\n',\n",
              " 'Людина — це єдина тварина, яка може сміятися.\\n',\n",
              " 'Я чищу зуби двічі на день.\\n',\n",
              " 'Він ніжно поклав руку на її плече.\\n',\n",
              " 'Його знали всі в селі.\\n',\n",
              " 'Я замовив два гамбургера.\\n',\n",
              " 'Ти знаєш, хто вона така?\\n',\n",
              " 'Сьогодні жахливо холодно.\\n',\n",
              " 'У цю суму включено податки.\\n',\n",
              " 'Ця школа була заснована в 1650 році.\\n',\n",
              " 'Я випадково знайшов цей ресторан.\\n',\n",
              " 'Ця проблема постала через неправильне розуміння одне одного.\\n',\n",
              " 'Вони скажуть: «Ага!»\\n',\n",
              " 'Цей кондиціонер споживає багато електроенергії.\\n',\n",
              " 'Все розпродано!\\n',\n",
              " 'Я не хотів нікого образити.\\n',\n",
              " \"Він легко розв'язав цю задачу.\\n\",\n",
              " 'Тобі треба враховувати його вік.\\n',\n",
              " 'Цей сад найкраще виглядає весною.\\n',\n",
              " 'Цей сир виготовлено з овечого молока.\\n',\n",
              " 'Він спить як немовля.\\n',\n",
              " 'В такої людини нічого не може вийти.\\n',\n",
              " 'Джон не знає, що робити далі.\\n',\n",
              " 'Проблема в тому, що це занадто дорого.\\n',\n",
              " 'Я не можу дозволити собі даремно витратити хоч одну єну.\\n',\n",
              " 'Гора вкрита снігом.\\n',\n",
              " 'Я попав під дощ і промок.\\n',\n",
              " 'Не звинувачуй в цьому її.\\n',\n",
              " 'Прошу, дайте мені ще один шанс.\\n',\n",
              " 'Ви знаете столицю Бельгії?\\n',\n",
              " 'Було дуже приємно побачити тебе знов.\\n',\n",
              " 'Я все сказав.\\n',\n",
              " 'Є випадки, коли це правило не виконується.\\n',\n",
              " 'Вона кинула палити.\\n',\n",
              " 'Фільм схвилював усіх глядачів.\\n',\n",
              " 'На фотографії в дівчини корона не з золота, а з квітів.\\n',\n",
              " 'Не забувай нас!\\n',\n",
              " 'Випало багато снігу.\\n',\n",
              " 'Йде сніг.\\n',\n",
              " 'Може піти сніг.\\n',\n",
              " 'Дощ перейшов у сніг.\\n',\n",
              " 'У нас у січні йде сніг.\\n',\n",
              " 'Сніг розтав.\\n',\n",
              " 'Сніг зник.\\n',\n",
              " 'Завтра піде сніг.\\n',\n",
              " 'У мене є мрія.\\n',\n",
              " 'Маюко приснився дивний сон.\\n',\n",
              " 'Мені наснився жахливий сон.\\n',\n",
              " 'Іноди мені сниться дім.\\n',\n",
              " 'Наша компанія планує побудувати новий хімічний завод у Росії.\\n',\n",
              " 'Росія зіштовхнулася з серйозними фінансовими проблемами.\\n',\n",
              " 'Франція воювала з Росією.\\n',\n",
              " 'Наполеон повів своє військо в Росію.\\n',\n",
              " 'У Китаї так само вивчають англійську.\\n',\n",
              " 'Ця традиція зародилася в Китаї.\\n',\n",
              " 'Я приїхав у Японію з Китаю.\\n',\n",
              " 'В мене є ще один друг у Китаї.\\n',\n",
              " 'Китай — найбільша країна в Азії.\\n',\n",
              " 'Китай набагато більший за Японію.\\n',\n",
              " 'У Японії є дипломатичні стосунки з Китаєм.\\n',\n",
              " 'Він повернувся з Китаю.\\n',\n",
              " 'Він написав книжку про порцеляну.\\n',\n",
              " 'Більшість людей, які їдять виделками, живуть в Європі, Північній Америці та Латинській Америці; люди, які користуються паличками для їжі, живуть у Східній Азії, а ті, хто їсть пальцями, живуть у Африці, на Близькому Сході, у Індонезії та в Індії.\\n',\n",
              " 'Корабель перевозить сировину з Індонезії.\\n',\n",
              " \"В Уельсі є прислів'я.\\n\",\n",
              " 'На півночі знаходиться Шотландія; на півдні — Англія; на заході — Уельс; і ще далі на заході — Північна Ірландія.\\n',\n",
              " 'Французькою розмовляють у Франції.\\n',\n",
              " 'Франція знаходиться на заході Європи.\\n',\n",
              " 'Франція межує з Іспанією.\\n',\n",
              " 'Він був у Франції.\\n',\n",
              " 'Савако хоче поїхати до Франції.\\n',\n",
              " 'Рейн тече поміж Францією та Німеччиною.\\n',\n",
              " 'Гітлер повів Німеччину в війну.\\n',\n",
              " 'Німеччина колись була в союзі з Італією.\\n',\n",
              " 'Німеччина межує з Нідерландами.\\n',\n",
              " 'Його рідна країна — Німеччина.\\n',\n",
              " 'Біл був у Японії.\\n',\n",
              " 'Це Японія.\\n',\n",
              " 'Я живу в Японії.\\n',\n",
              " 'Я повернувся до Японії.\\n',\n",
              " 'Ласкаво просимо до Японії.\\n',\n",
              " 'Ірландія відома своїм мереживом.\\n',\n",
              " 'Тоді Мексика ще не була незалежною від Іспанії.\\n',\n",
              " 'Ось що я купив у Іспанії.\\n',\n",
              " 'Він, здається, жив у Іспанії.\\n',\n",
              " 'Берн — столиця Швейцарії.\\n',\n",
              " 'Цей годинник виготовлено в Швейцарії.\\n',\n",
              " 'Швейцарія — гарна країна.\\n',\n",
              " 'Швейцарія — нейтральна країна.\\n',\n",
              " 'Це вироблено в Швейцарії?\\n',\n",
              " 'Він поїхав до Швейцарії.\\n',\n",
              " '«Трасянку» буде прирівняно до білоруської мови під час перепису.\\n',\n",
              " 'Вони поїхали в Чікаґо на машині.\\n',\n",
              " 'Я поговорив з батьками щодо навчання за кордоном.\\n',\n",
              " 'Знати — це одне, робити — інше.\\n',\n",
              " 'Він чекав на нього до десятої години.\\n',\n",
              " 'Поліція розслідує причину нещасного випадку.\\n',\n",
              " 'У будь-якому разі, це не твоя справа.\\n',\n",
              " 'Нам треба звертати увагу на сигнал світлофора.\\n',\n",
              " 'Окрім всього цього, він може читати на івриті.\\n',\n",
              " 'Джон пішов з цієї компанії і заснував власну.\\n',\n",
              " 'Цей дім великий.\\n',\n",
              " 'Автобус скоро поїде.\\n',\n",
              " 'Вчора Ви не були в школі.\\n',\n",
              " 'На піджаку є гудзики.\\n',\n",
              " 'Ти можеш взяти цю книгу даром.\\n',\n",
              " 'Вона не гарніша за свою матір.\\n',\n",
              " 'Певні види тварин швидко зникають.\\n',\n",
              " 'Немає сумнівів щодо того, кого виберуть.\\n',\n",
              " 'Цього ти хотів?\\n',\n",
              " 'Прошу, сідайте.\\n',\n",
              " \"Це коштувало менше, ніж п'ятнадцять доларів.\\n\",\n",
              " 'Мері замкнулася в кімнаті та закрила всі вікна.\\n',\n",
              " 'Підійде будь-який папір.\\n',\n",
              " 'Зручно жити так близько біля станції.\\n',\n",
              " 'Цей роман написав відомий американський письменник.\\n',\n",
              " 'Багато англійськіх слів походить з латинської мови.\\n',\n",
              " 'Мало студентів, які розуміють латинську.\\n',\n",
              " 'Латинська — мертва мова.\\n',\n",
              " 'Я не прихильник теорії, що треба вивчити латинську, щоб краще зрозуміти англійську.\\n',\n",
              " 'Його рідна країна — Грузія.\\n',\n",
              " 'Малий Мартін провів достатньо тихе дитинство в Атланті, штат Джорджія.\\n',\n",
              " 'У Канаді розмовляють англійською?\\n',\n",
              " 'Канада більша за Японію.\\n',\n",
              " 'У Канаді холодний клімат.\\n',\n",
              " 'Забронюйте, будьте ласкаві, кімнату біля міжнародного аеропорту в Торонто.\\n',\n",
              " 'Коли я був у Парижі, я його зустрів.\\n',\n",
              " \"Я надаю перевагу печиву або цукеркам, а не алкоголю, але я таки п'ю.\\n\",\n",
              " 'Будь ласка, не плач.\\n',\n",
              " 'Я прийду до тебе через годину.\\n',\n",
              " 'Я довідалася про Ваш портативний копір на Tokyo Office Expo 97.\\n',\n",
              " 'На концерті було весело, але в залі було холодно.\\n',\n",
              " 'Що ти тут робиш?\\n',\n",
              " 'Майку подобається грати у баскетбол.\\n',\n",
              " 'Квочка висиджувала яйця протягом одного тижня.\\n',\n",
              " 'Він знає, що ти його кохаєш?\\n',\n",
              " 'Тобі треба тільки прибрати в себе в кімнаті.\\n',\n",
              " 'Тобі подобається цей колір?\\n',\n",
              " 'На твоїй сорочці відривається гудзик.\\n',\n",
              " 'Тому що всі його друзі теж були бідними.\\n',\n",
              " 'Ти можеш придумати щось краще?\\n',\n",
              " 'Вона стала Матір’ю Терезою набагато пізніше, коли заснувала Доброчинні місії.\\n',\n",
              " 'Чудово.\\n',\n",
              " 'Мені ніхто нічого не дає.\\n',\n",
              " 'Це найновіша книга пана Міллера, і ми сподіваємось, що вона не буде останньою.\\n',\n",
              " 'Я знаю, що ти багатий.\\n',\n",
              " 'Танабата святкується в липні.\\n',\n",
              " 'Тьху!\\n',\n",
              " \"Мій комп'ютер знов завис!\\n\",\n",
              " 'Половина яблук гнилі.\\n',\n",
              " 'Тобі почулося.\\n',\n",
              " 'Я якраз думав про нову роботу.\\n',\n",
              " 'Пригощайся чим завгодно.\\n',\n",
              " 'Іноземцям важко вивчати японську.\\n',\n",
              " 'Скоро сестра буде з нами.\\n',\n",
              " 'Ті, хто все забувають, щасливі.\\n',\n",
              " 'Спитай у нього, чи знає він японську.\\n',\n",
              " 'Це вино дуже смачне.\\n',\n",
              " 'Смачного!\\n',\n",
              " 'Я люблю тебе.\\n',\n",
              " 'Я кохаю тебе.\\n',\n",
              " 'Життя прекрасне.\\n',\n",
              " 'Я маю кулькову ручку, але хочу ще одну.\\n',\n",
              " 'Ця змія жива чи мертва?\\n',\n",
              " 'Ця їжа шкідлива для здоров’я.\\n',\n",
              " 'В цій річці небезпечно плавати.\\n',\n",
              " 'Мій дядько купив мені цю книгу.\\n',\n",
              " 'Сказаного не візьмеш назад.\\n',\n",
              " 'Я не знаю, чи подобається вона тобі.\\n',\n",
              " 'Час летить.\\n',\n",
              " 'Лови момент.\\n',\n",
              " 'Платон мені друг, але істина дорожча.\\n',\n",
              " 'Доля сприяє сміливим.\\n',\n",
              " 'Ми вчимося не для життя, а для школи.\\n',\n",
              " 'Хочеш, щоб тебе любили,—люби!\\n',\n",
              " 'Прийшов, побачив, переміг.\\n',\n",
              " 'Жереб кинуто.\\n',\n",
              " 'Людина людині вовк.\\n',\n",
              " 'Коли двоє роблять те саме, це не те саме.\\n',\n",
              " 'Я не хочу тебе більше бачити.\\n',\n",
              " 'Геть з мого життя!\\n',\n",
              " 'Коні — корисні тварини.\\n',\n",
              " 'Іди повільніше.\\n',\n",
              " 'Демократія — найгірша форма правління за винятком усіх інших, які людство спробувало до цього часу.\\n',\n",
              " 'Його діти виросли.\\n',\n",
              " 'Я ходжу до школи пішки.\\n',\n",
              " 'Борода не робить філософом.\\n',\n",
              " 'Марнота марнот, і все — марнота.\\n',\n",
              " 'Історія — вчителька життя.\\n',\n",
              " 'З днем народження!\\n',\n",
              " 'Кожному своє.\\n',\n",
              " 'Пам’ятай, що ти порох.\\n',\n",
              " 'Доки живу — сподіваюся.\\n',\n",
              " 'Мовчання — знак згоди.\\n',\n",
              " 'Гроші не пахнуть.\\n',\n",
              " 'Не твоя справа!\\n',\n",
              " 'Чому він утік?\\n',\n",
              " 'Ти завжди співаєш.\\n',\n",
              " 'Вона вдягнена ніби наречена.\\n',\n",
              " 'Нема за що.\\n',\n",
              " 'Зимою рано темніє.\\n',\n",
              " 'Ти маєш презерватив?\\n',\n",
              " 'Я ледь не залишив парасолю в поїзді.\\n',\n",
              " 'Дайте три, будьте ласкаві.\\n',\n",
              " 'Палити дуже шкідливо для здоров’я.\\n',\n",
              " 'Не забудь квиток.\\n',\n",
              " 'Я покажу тобі місто.\\n',\n",
              " 'Як ти думаєш, люди колись колонізують Місяць?\\n',\n",
              " 'Не забудьте квиток.\\n',\n",
              " 'Деякий час вона просто дивилася на мене.\\n',\n",
              " 'Як довго ви будете в Шанхаї?\\n',\n",
              " 'Дякую!\\n',\n",
              " 'Нічого особливого.\\n',\n",
              " 'Я скоріше помру, ніж здамся!\\n',\n",
              " 'Це Лі Ін.\\n',\n",
              " 'Хто він?\\n',\n",
              " 'Де туалет?\\n',\n",
              " 'Не хвилюйся, я піду один.\\n',\n",
              " 'Дякую, не треба мене проводжати.\\n',\n",
              " 'Можна спитати, як вас звуть?\\n',\n",
              " 'Прошу, ось моя візитна картка.\\n',\n",
              " 'Посидь ще трохи.\\n',\n",
              " 'Моє прізвище — Ван.\\n',\n",
              " 'Ви знаєте англійську?\\n',\n",
              " 'Міг би хоч «Дякую» сказати.\\n',\n",
              " 'Ви будете чай чи каву?\\n',\n",
              " 'Лікар порадив йому працювати менше.\\n',\n",
              " 'Ти мусиш враховувати його вік.\\n',\n",
              " 'Виходячи з того, як вони розмовляли, я припустив, що вони одружені.\\n',\n",
              " 'Він розмовляв сам із собою.\\n',\n",
              " 'Вам треба сісти на цей автобус, щоб дістатись музею.\\n',\n",
              " 'Айріс, що ти зазвичай їси на сніданок?\\n',\n",
              " 'Ніхто не звернув уваги на його попередження.\\n',\n",
              " 'Ти мусиш навчити свій язик відрізняти гарну каву від поганої.\\n',\n",
              " 'Роботу треба закінчити до завтра.\\n',\n",
              " 'Він не піде на пікнік, як і я.\\n',\n",
              " 'Будь ласка, прийди до мене в кімнату та допоможи мені.\\n',\n",
              " 'Він розумний.\\n',\n",
              " 'Я втомився, і, що гірше, хотів спати.\\n',\n",
              " 'Вона відклала поїздку в Мехіко.\\n',\n",
              " 'Я загубила парасольку десь у парку.\\n',\n",
              " 'Я мушу купити нову.\\n',\n",
              " 'В цій книжці бракує двох сторінок.\\n',\n",
              " 'Китайська кухня не гірша за французьку.\\n',\n",
              " 'Ти студент?\\n',\n",
              " 'Коли Ви народилися?\\n',\n",
              " 'Я не серджуся, зовсім ні.\\n',\n",
              " 'Пікассо — відомий художник.\\n',\n",
              " 'Не вір йому.\\n',\n",
              " 'Вона намагалася записати кожне слово вчителя.\\n',\n",
              " 'Зустріч буде проведено, незважаючи на погоду.\\n',\n",
              " 'Номер — 932-86-47, але я не знаю код міста.\\n',\n",
              " 'Католицька церква проти розлучення.\\n',\n",
              " '«Хто це?» — «Це Джим».\\n',\n",
              " 'Я попросив, щоб вона зробила чотири копії листа.\\n',\n",
              " 'Це моя улюблена пісня.\\n',\n",
              " 'Ти знов зробив таку ж помилку.\\n',\n",
              " 'На стіні висить годинник.\\n',\n",
              " 'Їй подобається морозиво.\\n',\n",
              " 'Вам треба сісти на п’ятий автобус.\\n',\n",
              " 'Губка вбирає воду.\\n',\n",
              " 'Марки в цій крамниці не продаються.\\n',\n",
              " 'Шоколад — це Ганусина слабкість.\\n',\n",
              " 'У Ен слабкість на шоколад.\\n',\n",
              " 'Можна взяти твій словник?\\n',\n",
              " 'Ми майже сім’я.\\n',\n",
              " 'Ще крок — і ти мертвий.\\n',\n",
              " 'А ще ми ходили в храм.\\n',\n",
              " 'Риба живе в воді.\\n',\n",
              " 'Давай, Біле.\\n',\n",
              " 'Він вертається додому о шостій?\\n',\n",
              " 'Він хотів, щоб жінка розбудила його рано вранці.\\n',\n",
              " 'Можливо, це ніяк не зв’язано з поточною проблемою.\\n',\n",
              " 'З такими проблемами зіштовхнулося багато країн.\\n',\n",
              " 'Дозволь познайомити тебе з моєю матір’ю.\\n',\n",
              " 'Який гарний сьогодні місяць!\\n',\n",
              " 'Вона подбала про його рану.\\n',\n",
              " 'Парламент Великобританії складається із палати общин та палати лордів.\\n',\n",
              " 'Ти вчишся?\\n',\n",
              " 'Спуститися в пекло легко.\\n',\n",
              " 'Одним подобається спорт, а іншим — ні.\\n',\n",
              " 'Скло виробляють з піску.\\n',\n",
              " 'Мені треба відремонтувати велосипед.\\n',\n",
              " 'Чорний тобі личить.\\n',\n",
              " 'Ця задача занадто проста.\\n',\n",
              " 'Я проти будь-яких війн.\\n',\n",
              " 'Можна ми в тебе переночуємо?\\n',\n",
              " 'Я багато про Вас чув.\\n',\n",
              " 'Закінчити звіт до завтра практично неможливо.\\n',\n",
              " 'Поївши, я попросив рахунок.\\n',\n",
              " 'Цей роман перекладено з англійської.\\n',\n",
              " 'Вчора вечером Том не повечеряв.\\n',\n",
              " 'Перепрошую, але це просто неможливо.\\n',\n",
              " 'Вантажівка збила собаку.\\n',\n",
              " 'Як дійти до пляжу?\\n',\n",
              " 'Поверхня повітряної кулі — неевклідовий простір, тому для неї не виконуються правила евклідової геометрії.\\n',\n",
              " 'Як можна завести мотор?\\n',\n",
              " 'Я дуже сильно за тобою скучив.\\n',\n",
              " 'З якої ти країни?\\n',\n",
              " 'Учора я хворів.\\n',\n",
              " 'Скільки коштує ця хустинка?\\n',\n",
              " 'Він багатший за будь-кого в цьому місті.\\n',\n",
              " 'Її чоловік чудовий повар.\\n',\n",
              " 'Здається, цим літом знов буде холодно.\\n',\n",
              " 'Чому кажуть «Добрий день» тоді, коли день не добрий?\\n',\n",
              " 'Кажуть, що американці вважають кількість грошей, яку заробляє людина, мірилом його уміння.\\n',\n",
              " 'Без її допомоги я б не закінчив своє завдання.\\n',\n",
              " 'Кожен кулик своє болото хвалить.\\n',\n",
              " 'Я подивився на малюнок.\\n',\n",
              " 'Голод для нього був абстрактним поняттям; в нього завжди було достатньо їжі.\\n',\n",
              " 'На жаль, лінія занята.\\n',\n",
              " 'Я збираюся подивитися фільм жахів.\\n',\n",
              " 'Я дуже сильно за тобою скучаю.\\n',\n",
              " \"Він обов'язково прийде.\\n\",\n",
              " 'Гроші — корінь зла.\\n',\n",
              " 'Можна я примірю це плаття?\\n',\n",
              " 'Минулої ночі мені приснився дивний сон.\\n',\n",
              " 'Ця блузка бавовняна.\\n',\n",
              " 'Йому вдалося втекти.\\n',\n",
              " 'Герцогу належить багато землі.\\n',\n",
              " 'Нам довелося чекати на нього десять хвилин.\\n',\n",
              " 'Всі ці квіти подібні.\\n',\n",
              " 'Вона стала тим, чим вона є, завдяки своїй матері.\\n',\n",
              " 'Якщо треба, я скоро прийду.\\n',\n",
              " 'Вони виїхали вчора ввечері.\\n',\n",
              " 'Якщо буде гарна погода, ми доберемося туди завтра.\\n',\n",
              " 'Чому він змінив свої плани?\\n',\n",
              " 'Я піду, навіть якщо буде дощ.\\n',\n",
              " 'Поспішиш — людей насмішиш.\\n',\n",
              " 'Немає диму без вогню.\\n',\n",
              " 'Мета виправдує засоби.\\n',\n",
              " 'Сипати сіль на рану.\\n',\n",
              " 'Не буди лихо, поки спить тихо.\\n',\n",
              " 'Менше знаєш — краще спиш.\\n',\n",
              " 'То був злий крілик.\\n',\n",
              " 'Це був злий заєць.\\n',\n",
              " 'Чого очі не бачать, того серцю не жаль.\\n',\n",
              " 'Як з гуся вода.\\n',\n",
              " 'Який жах!\\n',\n",
              " 'Ще чого не вистачало!\\n',\n",
              " 'Непорушно стоять дерева, загорнені в сутінь, рясно вкриті краплистою росою.\\n',\n",
              " 'З-під білих кострубатих брів, з глибоких западин визирають добрі та лукаві очі.\\n',\n",
              " 'Доброго ранку.\\n',\n",
              " 'Усі люди народжуються вільними і рівними у своїй гідності та правах.\\n',\n",
              " 'Вони наділені розумом і совістю і повинні діяти у відношенні один до одного в дусі братерства.\\n',\n",
              " \"Один, два, три, чотири, п'ять, шість, сім, вісім, дев'ять, десять.\\n\",\n",
              " 'Добрий вечір, як Ваші справи?\\n',\n",
              " 'Я не знаю, коли Боб приїхав у Японію.\\n',\n",
              " 'Бачу сльози в твоїх очах.\\n',\n",
              " 'Ніколи не забуду тебе.\\n',\n",
              " 'Дівчинка співає й танцює, а потім посміхається мені.\\n',\n",
              " 'Як завжди, я міг тільки сподіватися, що поліція мене не зупинить.\\n',\n",
              " \"Не пам'ятаю твого імені.\\n\",\n",
              " 'На жаль, день народження - тільки раз у рік.\\n',\n",
              " 'До мене на день народження ніхто не приходив.\\n',\n",
              " 'Хто в любові не знається, той горя не знає.\\n',\n",
              " 'Уже сходить сонце.\\n',\n",
              " 'Знаю, що все це тільки гра.\\n',\n",
              " 'Ця проблема справді потребує вирішення, але це те саме, що стріляти з гармат по горобцях.\\n',\n",
              " 'Бачу феєрверки!\\n',\n",
              " 'Заходьте!\\n',\n",
              " 'Розповсюджуйте есперанто!\\n',\n",
              " 'Ласкаво просимо!\\n',\n",
              " 'Пральна машина — чудовий винахід.\\n',\n",
              " 'Тоні розмовляє англійською краще за мене.\\n',\n",
              " 'Його мати хвилюється за нього.\\n',\n",
              " 'Незабаром ми випадково зустрілися знов.\\n',\n",
              " 'Можу я подивитися на Ваш паспорт?\\n',\n",
              " 'Він помер, не склавши заповіт.\\n',\n",
              " 'Я повторив це слово для неї декілька раз.\\n',\n",
              " 'В нього тільки одна мета в житті — заробляти гроші.\\n',\n",
              " 'Усі люди дихають повітрям.\\n',\n",
              " 'Він справляє погане враження.\\n',\n",
              " 'Я така людина, яка живе задля однієї миті.\\n',\n",
              " 'Містер Браун — наш вчитель англійської.\\n',\n",
              " 'Я поважаю тих, хто старається з усіх сил.\\n',\n",
              " 'Вони прив’язали злодія до дерева.\\n',\n",
              " 'Скільки часу це займе?\\n',\n",
              " 'Вона купила для нього светр.\\n',\n",
              " 'Штраф за плювання — п’ять фунтів.\\n',\n",
              " 'Відрізнити японську від китайської не завжди легко.\\n',\n",
              " 'Він випадково поклав сіль у свою чашку кави.\\n',\n",
              " 'Привіт, Мімі!\\n',\n",
              " 'Як справи?\\n',\n",
              " 'Ви хочете щось випити?\\n',\n",
              " 'Їхня дружба переросла у глибоке кохання.\\n',\n",
              " 'Китай багатий на природні ресурси.\\n',\n",
              " 'Ви вже прочитали сьогодняшній випуск газети?\\n',\n",
              " 'Це слово також французьке за походженням.\\n',\n",
              " 'Я тільки-но закінчив домашню роботу, коли Тед мені подзвонив.\\n',\n",
              " 'Ця краватка тобі дуже до лиця.\\n',\n",
              " 'Як жаль, що в мене немає саду!\\n',\n",
              " 'Герой у кінці книги помирає.\\n',\n",
              " 'Він поклав руку мені не плече.\\n',\n",
              " 'Вони були надто втомлені, щоб лізти на гору.\\n',\n",
              " 'Кейт п’є багато молока кожен день.\\n',\n",
              " 'Він експерт з астрономії.\\n',\n",
              " 'Ти нагадуєш мені про свою мати.\\n',\n",
              " 'Ті, кого люблять боги, помирають молодими.\\n',\n",
              " 'Через десять років наше місто сильно зміниться.\\n',\n",
              " 'Він брат Таро.\\n',\n",
              " 'Ти вже прочитав сьогодняшній випуск газети?\\n',\n",
              " 'Ти вже прочитала сьогодняшній випуск газети?\\n',\n",
              " 'Сьогодні національне свято.\\n',\n",
              " 'Чому ти приїхала в Японію?\\n',\n",
              " 'Він злодій.\\n',\n",
              " 'Він знов загубив свою парасолю.\\n',\n",
              " 'Він почув шум із кухні.\\n',\n",
              " 'Не всі пташки можуть літати.\\n',\n",
              " 'Один, три і п’ять — це непарні числа.\\n',\n",
              " 'Дай мені ключ від цього за́мку!\\n',\n",
              " 'Дай мені ключ від цього замка́.\\n',\n",
              " 'Але йому пощастило.\\n',\n",
              " 'Він узяв ручку і почав писати.\\n',\n",
              " 'У кожного своя правда, але істина — одна.\\n',\n",
              " 'Шумового забруднення можна було б позбігнути тільки якщо б люди були більш чутливими до навколишнього середовища.\\n',\n",
              " 'Мені вдалося закінчити роботу.\\n',\n",
              " 'У твоєму творі немає помилок.\\n',\n",
              " 'Написавши на собі невідомо що й отримавши непередбачений результат, що ти будеш робити?\\n',\n",
              " 'Шановні пасажири!\\n',\n",
              " 'При вході до транспортного засобу і за відсутності проїзного квитка багаторазового використання прокомпостуйте квиток одноразового використання, не чекаючи наступної зупинки.\\n',\n",
              " 'Будьте ласкаві, дайте нам якісь приклади.\\n',\n",
              " 'Обидві сестри білявки.\\n',\n",
              " 'Дракон — це вигадана істота.\\n',\n",
              " 'Я прийшла до школи вчасно.\\n',\n",
              " 'Чай з лимоном, будьте ласкаві.\\n',\n",
              " 'Прошу, звертайтеся до голови!\\n',\n",
              " 'Крілики висунули мордочки.\\n',\n",
              " 'Без тебе в цьому місті пусто і самотньо.\\n',\n",
              " 'Ти доберешся туди вчасно, якщо не запізнишся на поїзд.\\n',\n",
              " 'Я згоден, але в мене є одна умова.\\n',\n",
              " 'Їхні імена було викреслено зі списку.\\n',\n",
              " 'Прямо за рогом.\\n',\n",
              " 'Що це за велика будівля перед нами?\\n',\n",
              " 'Після зими приходить весна.\\n',\n",
              " 'Не плутай бажання з коханням.\\n',\n",
              " 'Мої батьки тільки що приїхали на станцію.\\n',\n",
              " 'Штора загорілася.\\n',\n",
              " 'Ви дивилися цей фільм?\\n',\n",
              " 'Я маю повний збір творів Шекспіра.\\n',\n",
              " 'Сьогодні я встав пізно.\\n',\n",
              " 'Нехай буде з тобою сила.\\n',\n",
              " 'Їй не подобалося жити в місті.\\n',\n",
              " 'Тобі подобається музика?\\n',\n",
              " 'Я бачив статтю в блозі проекту Tatoeba про нову версію, що скоро вийде; ви її читали?\\n',\n",
              " 'Я би з задоволенням написав сотні речень в Tatoeb’і, але в мене є справи.\\n',\n",
              " 'Я з нетерпінням чекаю цієї нової версії Tatoeb’и.\\n',\n",
              " 'Вона скоріш буде перекладати фрази на Tatoeb’і, ніж балакати зі мною.\\n',\n",
              " 'Жінки, як правило, живуть довше за чоловіків.\\n',\n",
              " 'Хто винайшов телефон?\\n',\n",
              " 'Мері Хет була цього тижня в Новому Орлеані.\\n',\n",
              " 'Місто повністю спустошене.\\n',\n",
              " 'Проблеми з ерекцією можуть бути викликані різними причинами.\\n',\n",
              " 'Яка сьогодні дата?\\n',\n",
              " 'Єву спокушає саме змій.\\n',\n",
              " 'Дайте мені філіжанку кави.\\n',\n",
              " 'Йому належить великий ресторан біля озера.\\n',\n",
              " \"На п'ятому поверсі нема гарячої води, а на першому поверсі є.\\n\",\n",
              " 'Вовки звичайно не нападають на людей.\\n',\n",
              " 'Я покажу тобі декілька знімків.\\n',\n",
              " 'Фізика мене зовсім не цікавить.\\n',\n",
              " 'Мистецтво — вічне, життя — коротке.\\n',\n",
              " 'Про смаки не сперечаються.\\n',\n",
              " 'Мистецтво заради мистецтва.\\n',\n",
              " 'Пам’ятай про смерть.\\n',\n",
              " 'Але ж ти ніколи мені про це не розповідала!\\n',\n",
              " 'Сьогодні достатньо холодно.\\n',\n",
              " 'Що б Ви робили, якщо б Ви побачили привида?\\n',\n",
              " 'Дув сильний вітер.\\n',\n",
              " 'Дошкульний вітер проймав мене до кісток.\\n',\n",
              " 'Кава була така гаряча, що я не міг її пити.\\n',\n",
              " 'Це мене врятувало.\\n',\n",
              " 'Вона справді добре співає.\\n',\n",
              " 'Цікаво, що сталося.\\n',\n",
              " 'Я хотів би приєднатися до вашої групи.\\n',\n",
              " 'У тебе будуть проблеми, якщо твої батьки довідаються.\\n',\n",
              " 'Місяць відбивався в озері.\\n',\n",
              " 'Січень — перший місяць року.\\n',\n",
              " 'Радіо вимкнене.\\n',\n",
              " 'Вважається, що в цьому лісі живуть привиди.\\n',\n",
              " 'Пекін — столиця Китаю.\\n',\n",
              " 'Ось мій прапор для нюношку.\\n',\n",
              " 'Через те, що ідеологія нюношка ґрунтується на максимальному розходженні з датською, датський фон прапора заміняємо ісландським, бо створювачі мови використовували ісландську для натхнення.\\n',\n",
              " 'Форма прапора не прямокутна, бо... ну, дивний він, цей нюношк.\\n',\n",
              " 'Моєї мови немає в списку!\\n',\n",
              " 'Запах троянд наповнив кімнату.\\n',\n",
              " 'У травні всі пташки відкладають яйця.\\n',\n",
              " 'Я б з радістю все це переклав, але я не знаю голландської.\\n',\n",
              " 'Може, і мені подобавляти речень без перекладу?\\n',\n",
              " 'Так можна дуже швидко підняти рейтинг своєї мови.\\n',\n",
              " 'Усі зайці — козли!\\n',\n",
              " 'Він випив склянку червоного вина.\\n',\n",
              " 'Я нарешті знайшов вирішення цеї проблеми.\\n',\n",
              " 'Я загубив ключ.\\n',\n",
              " 'Піаніно дороге, але машина дорожча.\\n',\n",
              " 'Як у тебе справи?\\n',\n",
              " 'Я дуже давно тебе не бачив!\\n',\n",
              " 'Нема нічого нового під сонцем.\\n',\n",
              " 'У нас по два вуха.\\n',\n",
              " 'Мене запросили на обід.\\n',\n",
              " 'Місця для курців чи для некурців?\\n',\n",
              " '«Ти будеш учитися після обіду?» — «Так, буду».\\n',\n",
              " 'Перемога малоймовірна, але можлива.\\n',\n",
              " 'Божевілля корисне для здоров’я.\\n',\n",
              " 'Світ міняється все швидше і швидше.\\n',\n",
              " 'Це мої штани.\\n',\n",
              " 'Будьте ласкаві, покажіть мені ці фотографії.\\n',\n",
              " 'В’ялена риба мені не до смаку.\\n',\n",
              " 'Сутність свободи — у математиці.\\n',\n",
              " 'У Білорусі живуть представники різних релігій.\\n',\n",
              " 'Привид ходить по Європі, привид комунізму.\\n',\n",
              " 'Німеччина — парламентська республіка.\\n',\n",
              " 'Давай удамо, що ми інопланетяни.\\n',\n",
              " 'Слава богу.\\n',\n",
              " 'Будь ласка, увімкни телевізор.\\n',\n",
              " 'Ні, дякую.\\n',\n",
              " 'Батарея розряджена!\\n',\n",
              " 'Він не тільки не працює, але навіть і не знайде роботу.\\n',\n",
              " 'Їй п’ять років.\\n',\n",
              " 'Тобі подобається співати?\\n',\n",
              " 'Звичайно я іду додому в чотири.\\n',\n",
              " 'Де ви бачили цю жінку?\\n',\n",
              " 'Гірська стежка була накрита м’якою ковдрою листя, по якій було легко йти.\\n',\n",
              " 'Перекладіть наступні речення японською.\\n',\n",
              " 'Путін казав, що терористів треба «мочити в сортирах».\\n',\n",
              " 'Я не розумію, чому Німеччина перемогла на Євробаченні.\\n',\n",
              " 'Це дім, у якому поет провів своє дитинство.\\n',\n",
              " 'А зараз?\\n',\n",
              " 'Привіт, світе!\\n',\n",
              " '«Сатанинські вірші» Салмана Рушді — справжній шедевр сучасної літератури.\\n',\n",
              " 'Я перекладаю.\\n',\n",
              " 'Він багато знає про тварин.\\n',\n",
              " 'Тобі варто було б прислухатись до своєї мати.\\n',\n",
              " 'Думаю, він не прийде.\\n',\n",
              " 'Хочу до Львова...\\n',\n",
              " 'Добрий вечір.\\n',\n",
              " 'Добраніч, мамо.\\n',\n",
              " 'Дуже дякую!\\n',\n",
              " 'Щиро дякую!\\n',\n",
              " 'Якщо б я міг надіслати тобі зефір, Чанг, я б це зробив.\\n',\n",
              " 'Світ змінює комунікація, а не інформація.\\n',\n",
              " 'На душі стає тепло, коли чуєш у пісні на (здавалося б!) чужій мові: словацькій, македонській, словенській, — знайомі з дитинства слова і навіть розумієш цілі фрази.\\n',\n",
              " 'Ось за що я люблю Євробачення.\\n',\n",
              " 'Мої думки липнуть до павутиння львівських вулиць.\\n',\n",
              " 'А правда, що в’єтнамською «Дякую» звучить «Come on»?\\n',\n",
              " 'З юбілеєм Олексія Дударева привітав Президент Білорусі Олександр Лукашенко.\\n',\n",
              " 'Це аніме про те, як звичайний японський школяр одружився зі своєю вчителькою-інопланетянкою.\\n',\n",
              " 'Це Японія, там таке буває.\\n',\n",
              " 'З того часу, як я сам став носити окуляри, мені стало подобатися аніме, де головні герої в окулярах.\\n',\n",
              " 'Я вчора купив книжку.\\n',\n",
              " 'Мій батько живе і працює в Токіо.\\n',\n",
              " 'Вона переконала чоловіка провести відпустку у Франції.\\n',\n",
              " 'Вони його поважають.\\n',\n",
              " 'Тебе цікавить музика?\\n',\n",
              " 'В інтернеті мало сайтів на татарській мові.\\n',\n",
              " 'Чумацький шлях — широкий пояс із далеких зірок, кожна зірка — сонце, таке як наше.\\n',\n",
              " 'Твої очі нагадують мені зорі.\\n',\n",
              " 'Небо повне зірок.\\n',\n",
              " 'На небі були зірки?\\n',\n",
              " 'На небі можна побачити тисячі зірок.\\n',\n",
              " 'В небі була незлічена кількість зірок.\\n',\n",
              " 'В небі так багато зірок, я не можу їх усі порахувати.\\n',\n",
              " 'В небі міліарди зірок.\\n',\n",
              " 'В галактиці незлічена кількість зірок.\\n',\n",
              " 'Літом вночі можна побачити багато зірок.\\n',\n",
              " 'Незвичайно бачити рок-зірок з краваткою!\\n',\n",
              " 'На дверях була велика золота зірка.\\n',\n",
              " 'Зорі сяяли весь час.\\n',\n",
              " 'Ця зірка така велика, що її можно побачити неозброєним оком.\\n',\n",
              " 'Кожна зірка — це сфера.\\n',\n",
              " 'Ці тістечка у формі зірок.\\n',\n",
              " 'Ця книга про зірки.\\n',\n",
              " 'Це історія про зірки.\\n',\n",
              " 'Цей телескоп дозволяє бачити зорі та мрії.\\n',\n",
              " 'Ці зорі можна побачити в Австралії?\\n',\n",
              " 'Усе печиво у формі зірок.\\n',\n",
              " 'Та маленька зірка — найяскравіша.\\n',\n",
              " 'Яка твоя улюблена телезірка?\\n',\n",
              " 'Діти граються кубиками.\\n',\n",
              " 'Мій брат не тільки склав план, але і виконав його.\\n',\n",
              " 'Фуґу — японський делікатес.\\n',\n",
              " 'Риба-собака — делікатес у Японії.\\n',\n",
              " 'У сталінську епоху в’язні в концентраційних таборах ставали рабами на службі держави.\\n',\n",
              " 'Вітер ніжно цілував дерева.\\n',\n",
              " 'Якщо поливати гвоздики 7Up’ом замість води, вони тримаються набагато довше — часто аж три чи чотири тижні.\\n',\n",
              " 'Що мені вдягнути — штани чи спідницю?\\n',\n",
              " 'Що сьогодні на вечерю?\\n',\n",
              " 'Це справжня людина.\\n',\n",
              " 'У іспанців є два прізвища.\\n',\n",
              " 'Я Сьюзен Грін.\\n',\n",
              " 'Ми араби.\\n',\n",
              " 'Автор мови Словіо навіть створив на ній порносайт.\\n',\n",
              " 'Площа Ринок — історичний центр міста.\\n',\n",
              " 'На площі Ринок є чотири фонтана зі статуями Нептуна, його жінки Амфітрити, Діани, та Адоніса.\\n',\n",
              " 'Годинник на львівській ратуші вперше встановили в 1404 році.\\n',\n",
              " 'Гартман Вітвер — відомий львівський скульптор.\\n',\n",
              " 'Я ніколи раніше не чув про Львів.\\n',\n",
              " 'У цього цвинтаря навіть є свій сайт, і на ньому є сторінка «Новини».\\n',\n",
              " 'Як ви уявляєте собі новини з кладовища?!\\n',\n",
              " 'Я просто і не знаю, що сказати.\\n',\n",
              " 'Я бачив Джона в бібліотеці.\\n',\n",
              " 'У суботу ми пішли в кіно, а потім в ресторан.\\n',\n",
              " 'А може філіжанку гарячої кави?\\n',\n",
              " 'Я впевнений.\\n',\n",
              " 'Тільки безробітні ходять на побачення по середах.\\n',\n",
              " 'То був злий кролик.\\n',\n",
              " 'Озеро Товада відоме своєю красою.\\n',\n",
              " 'Раніше я грав зі своєю сестрою в парку.\\n',\n",
              " 'Вона щось писала в себе в кабінеті.\\n',\n",
              " 'Колись я стану лікарем.\\n',\n",
              " 'Чи не могли б Ви, будьте ласкаві, включити світло?\\n',\n",
              " 'Частинки пилу літають в атмосфері.\\n',\n",
              " 'Вона співає чи грає на піаніно?\\n',\n",
              " 'Я не зрозумів з того, що він сказав, нічого.\\n',\n",
              " 'Почекайте трохи, будьте ласкаві.\\n',\n",
              " 'Можеш взяти будь-який, що тобі до сподоби.\\n',\n",
              " 'Я встав о сьомій ранку.\\n',\n",
              " 'Пеніс - один з чоловічих репродуктивних органів.\\n',\n",
              " 'На літніх канікулах я працював на пошті.\\n',\n",
              " 'Батько купив мені книжку.\\n',\n",
              " 'Чим глубже ми ниряємо, тим холодніша вода.\\n',\n",
              " 'Він дуже молодий.\\n',\n",
              " 'Набагато молодший за Тома.\\n',\n",
              " 'Все колись стається вперше.\\n',\n",
              " 'Цей телефон не працює.\\n',\n",
              " 'Звичайно я піду.\\n',\n",
              " 'Цей хлопчик подібний на батька.\\n',\n",
              " 'Я обожнюю цю комбінацію.\\n',\n",
              " 'Хай буде проклятий той, хто винайшов війну.\\n',\n",
              " 'Вони сиділи в тіні цього великого дерева.\\n',\n",
              " 'Вона заплакала від радості, коли почула, що її син вижив після падіння літака.\\n',\n",
              " 'Вона одна з найкращих балерин у світі.\\n',\n",
              " 'Це був дуже жаркий вечір.\\n',\n",
              " 'Він жив простим життям.\\n',\n",
              " \"Кожен може написати своє ім'я.\\n\",\n",
              " 'Шовкопряди прядуть кокони.\\n',\n",
              " 'Не все можна купити за гроші.\\n',\n",
              " 'Будьте ласкаві, зробіть копію цієї сторінки.\\n',\n",
              " 'Я дуже давно його не бачив.\\n',\n",
              " 'План було раптово змінено.\\n',\n",
              " 'Неможливо побачити Рим за один день.\\n',\n",
              " 'Подивись на мене.\\n',\n",
              " 'Моя відповідь вірна?\\n',\n",
              " 'Він виразив свою думку в декількох словах.\\n',\n",
              " 'Дивно, що вона таке зробила.\\n',\n",
              " 'Що б ти зробила, якщо б у тебе було, скажім, десять тисяч доларів?\\n',\n",
              " 'Що б ти зробив, якщо б ти мав, скажімо, десять тисяч доларів?\\n',\n",
              " 'Мені нічого добавити.\\n',\n",
              " 'Моє хоббі - читати комікси.\\n',\n",
              " 'Підніми слухавку.\\n',\n",
              " 'Мені стає погано від устриць.\\n',\n",
              " 'Вчора я отримав від неї листа.\\n',\n",
              " 'Поїзд було затримано через сніг.\\n',\n",
              " 'Він - чесний?\\n',\n",
              " 'Смішно!\\n',\n",
              " 'Він думає, що він хтось, а насправді він ніхто.\\n',\n",
              " 'Він плакав і плакав.\\n',\n",
              " 'Третя частка земної поверхні - пустеля.\\n',\n",
              " 'Він хоче в Америку.\\n',\n",
              " 'Це щось серйозне?\\n',\n",
              " 'Наш перший урок — математика.\\n',\n",
              " '«Завжди і назавжди?» — спитав маленький чорний кролик.\\n',\n",
              " 'Ти знаєш, чому вона так злиться?\\n',\n",
              " 'Ти, можливо, не розумієш жодного слова із того, що я сьогодні кажу.\\n',\n",
              " 'Так, давай.\\n',\n",
              " 'Вона дуже пишається своєю колекцією марок.\\n',\n",
              " 'Що це за пан в окулярах?\\n',\n",
              " 'Коли в Японію було завезено картоплю?\\n',\n",
              " 'Життя занадто коротке, щоб вивчити німецьку.\\n',\n",
              " 'Життя занадто коротке, щоб вивчати німецьку.\\n',\n",
              " 'Ми тобі допоможемо, добре?\\n',\n",
              " 'Завтра неділя.\\n',\n",
              " 'Удачі на іспиті!\\n',\n",
              " 'Вона дала йому годинник.\\n',\n",
              " 'Ви хочете знати мій секрет?\\n',\n",
              " 'Він дуже простий...\\n',\n",
              " 'Ти хочеш знати мою таємницю?\\n',\n",
              " 'Це дуже просто...\\n',\n",
              " 'Ти хочеш знати мій секрет?\\n',\n",
              " 'Він дуже простий...\\n',\n",
              " 'Я не маю готівки, можу я виписати чек?\\n',\n",
              " 'Де ти живеш?\\n',\n",
              " 'У нього велика родина.\\n',\n",
              " 'Він знайшов мій велосипед.\\n',\n",
              " 'Обережно, машина!\\n',\n",
              " 'Яка ти добра!\\n',\n",
              " 'Як тобі пощастило!\\n',\n",
              " 'Як тобі щастить!\\n',\n",
              " 'Звідки мені знати?\\n',\n",
              " 'Який я нещасний!\\n',\n",
              " 'Я молода.\\n',\n",
              " 'Я вірю в тебе.\\n',\n",
              " 'Я вірю тобі.\\n',\n",
              " 'Я не можу це зробити.\\n',\n",
              " 'Я продовжила співати.\\n',\n",
              " 'Як я за тобою скучив!\\n',\n",
              " 'Ось і ми!\\n',\n",
              " 'Ось ваш пес.\\n',\n",
              " 'Ось і автобус.\\n',\n",
              " 'Він назвав мене Ітіро.\\n',\n",
              " 'Зелене тобі пасує.\\n',\n",
              " 'Ви всі готові?\\n',\n",
              " 'Усі готові?\\n',\n",
              " 'Роби що хочеш.\\n',\n",
              " 'Руки вгору!\\n',\n",
              " 'Це все, що я знаю.\\n',\n",
              " 'Він поїхав за кордон, і так і не повернувся.\\n',\n",
              " 'У молодості треба багато читати.\\n',\n",
              " 'У мене ще не було можливості подивитися цей фільм.\\n',\n",
              " \"Поїдзка займе біля п'яти годин.\\n\",\n",
              " 'Пахне смачно!\\n',\n",
              " 'У тебе є квитки на сьогодні?\\n',\n",
              " 'Коли він повернеться?\\n',\n",
              " 'Цей старий дім побудований з дерева.\\n',\n",
              " 'Вишні червоні.\\n',\n",
              " 'Ти ведеш щоденник?\\n',\n",
              " 'Де мій годинник?\\n',\n",
              " 'Де мої годинники?\\n',\n",
              " 'Вірна відповідь.\\n',\n",
              " 'У тебе багато книг.\\n',\n",
              " 'Ти маєш багато книг.\\n',\n",
              " 'Ти не розумієш.\\n',\n",
              " 'Учора був мій день народження.\\n',\n",
              " 'Учора був день мого народження.\\n',\n",
              " 'Таємниця діалектики Гегеля в кінцевому підсумку тільки в цьому: він спростовує теологію за допомогою філософії, щоб після цього спростуваті філософію за допомогою теології.\\n',\n",
              " 'Тобі вирішувати.\\n',\n",
              " 'Друзі називають мене Кеном.\\n',\n",
              " 'Вона моя дівчіна.\\n',\n",
              " 'Християнство вибрало собі за мету здійснення недосяжних бажань людини, але саме через це воно зневажало його досяжними бажаннями.\\n',\n",
              " 'Якщо буддизм привабливий, то це через те, що він виглядає як можливість доторкнутися до вічного і знайти щастя, не маючи будь-яких конкретних релігійних обов’язків.\\n',\n",
              " 'Це свого роду духовний само-еротизм.\\n',\n",
              " 'Можливо, цей світ — це пекло іншої планети.\\n',\n",
              " 'Усе, що я знаю про мораль, я знаю дякуючи футболу.\\n',\n",
              " 'Я вчитимуся.\\n',\n",
              " 'Коли ти підеш, я дуже сильно за тобою скучатиму.\\n',\n",
              " 'Це пошта, а то — банк.\\n',\n",
              " 'Цікаво, чому його не було.\\n',\n",
              " 'Що готуєш?\\n',\n",
              " 'Ти щось тут загубив?\\n',\n",
              " 'Це дуже рідкісний випадок.\\n',\n",
              " 'Хто автор цього оповідання?\\n',\n",
              " 'Ти колись бачила, як він плаває?\\n',\n",
              " 'Будьте ласкаві, поясніть, як туди добратися.\\n',\n",
              " 'Тобі подобаються яблука?\\n',\n",
              " 'Вам подобаються яблука?\\n',\n",
              " 'Це все, що я хочу зробити.\\n',\n",
              " 'Я маю словник.\\n',\n",
              " 'Що ви готуєте?\\n',\n",
              " 'Що готуєте?\\n',\n",
              " 'Я заробляю 100 євро на день.\\n',\n",
              " 'Дідусь простудився.\\n',\n",
              " 'Ми добрі друзі.\\n',\n",
              " 'Звичайно, я буду на вечірці.\\n',\n",
              " 'Вона стояла перед класом.\\n',\n",
              " 'Судячи по виразу його обличча, йому все вдалося.\\n',\n",
              " 'Я вперше дивлюся такий страшний фільм.\\n',\n",
              " 'Я маю друга, який живе в Кіото.\\n',\n",
              " 'Давай трохи відпочинемо під деревом.\\n',\n",
              " 'Я народилася в 1979 році.\\n',\n",
              " 'Куди ти вчора ходив?\\n',\n",
              " 'Я не люблю яблука.\\n',\n",
              " 'Проблема в тому, що сонячна енергія занадто дорога.\\n',\n",
              " 'Ця картина не варта тих грошей, які ви просите.\\n',\n",
              " 'Він запропоновав мені допомогти.\\n',\n",
              " 'Чи не могли б ви сказати мені, яка у вас тепер адреса?\\n',\n",
              " 'Ця пісня нагадує мені про дім.\\n',\n",
              " 'Якщо ви не хочете ходити на заняття на семінарі \"Боротьба з корупцією всередині фірми\", ви можете заплатити 200 гривень і отримати сертифікат просто так.\\n',\n",
              " \"Гірська стежка була накрита ковдрою листя, м'яка і зручна для ходьби.\\n\",\n",
              " 'Там хтось є?\\n',\n",
              " 'Яка найвища гора в Північній Америці?\\n',\n",
              " 'Його аргумент був далеко не раціональний.\\n',\n",
              " 'Ти хотів розказати мені про свободу?\\n',\n",
              " 'Це Майк.\\n',\n",
              " 'Хіроші тут?\\n',\n",
              " 'Це Майк.\\n',\n",
              " 'Хіросі тут?\\n',\n",
              " 'Відремонтуй годинник.\\n',\n",
              " 'Я приготував слабкий водний розчин цукру.\\n',\n",
              " 'Навіть японці можуть помилитися, коли розмовляють японською.\\n',\n",
              " 'Мозок має складну структуру.\\n',\n",
              " 'Це найабсурдніша ідея, яку я чув.\\n',\n",
              " 'Я люблю цю книгу більш за все.\\n',\n",
              " 'Дайте мені пляшку вина.\\n',\n",
              " 'Я прокинувся і побачив у кімнаті злодія.\\n',\n",
              " 'Заздрять тому, кому є за що.\\n',\n",
              " 'Мене звуть Джек.\\n',\n",
              " '\"Кіт?\" — спитав старий.\\n',\n",
              " 'У кімнаті нічого не було, крім старого крісла.\\n',\n",
              " 'У англійській багато запозичень з французької.\\n',\n",
              " 'Грубо жартувати зі свого начальника на людях.\\n',\n",
              " \"Новий тунель з'єднає Британію з Францією.\\n\",\n",
              " 'Ми думаємо, що Венеція — чудове місто.\\n',\n",
              " 'Де воно заховане?\\n',\n",
              " 'Ти знаєш, де він купив свій фотоапарат?\\n',\n",
              " 'Вони прийшли до висновку, що він збрехав.\\n',\n",
              " 'Як людина живе, так вона і помре.\\n',\n",
              " 'Що ти робила в минилу неділю?\\n',\n",
              " 'До якого клубу ти хочеш вступити?\\n',\n",
              " 'Він повернувся з Голландії в червні.\\n',\n",
              " 'У неї вкрали сумочку.\\n',\n",
              " 'Вона моя старша сестра.\\n',\n",
              " 'Гонор не дозволив йому попросити допомоги.\\n',\n",
              " 'Ми знаємо його.\\n',\n",
              " 'Колись, давно-давно жили бідний чоловік і багата жінка.\\n',\n",
              " 'Я двічі був у Кіото.\\n',\n",
              " 'Я тут уже дві години.\\n',\n",
              " 'Сам кашу заварив, то сам і розхльобуй.\\n',\n",
              " 'Космос повний таємниць.\\n',\n",
              " '«Полюби ближнього свого, як самого себе», — це цитата з Біблії.\\n',\n",
              " 'Я маю багато друзів.\\n',\n",
              " 'Ви розмовляєте на шанхайському діалекті?\\n',\n",
              " 'Мені подобається повільний ритм цієї пісні.\\n',\n",
              " \"Поліцейський був п'яний.\\n\",\n",
              " 'У неї кругле обличчя.\\n',\n",
              " 'Залізо — корисний метал.\\n',\n",
              " 'Мені треба вибачитись перед Ен.\\n',\n",
              " 'Чия це сумка?\\n',\n",
              " 'Вітаю!\\n',\n",
              " 'Ало!\\n',\n",
              " 'Суддя присудив йому рік зневолення.\\n',\n",
              " 'Він має власний дім.\\n',\n",
              " 'Хто зліпив сніговика?\\n',\n",
              " 'Якби я був птахом, я б полетів до тебе.\\n',\n",
              " '«Дякую», — «Нема за що».\\n',\n",
              " 'Сьогодні я бачив зірку.\\n',\n",
              " 'Сьогодні я бачив шпака.\\n',\n",
              " 'Мініспідниці вийшли з моди.\\n',\n",
              " 'Цей знімок зробив він.\\n',\n",
              " 'Пол тільки що подзвонив.\\n',\n",
              " 'Будьте ласкаві, пишіть про Ваш справжній досвід.\\n',\n",
              " 'Я розчарувався в тобі.\\n',\n",
              " 'Ось чому він злився.\\n',\n",
              " 'Я не можу йти далі.\\n',\n",
              " 'Нещасний випадок стався позавчора.\\n',\n",
              " 'Біл проснувся рано, щоб потрапити на перший поїзд.\\n',\n",
              " \"«Скільки коштує ця носова хусточка?» — «Дев'яносто п'ять центів».\\n\",\n",
              " 'Ці два регіони відрізняються релігією та культурою.\\n',\n",
              " 'Вчора йшов дощ.\\n',\n",
              " 'Вчитися ніколи не пізно.\\n',\n",
              " 'Сьогодні на ній біле плаття.\\n',\n",
              " \"Нам ледве вистачає часу, щоб з'їсти сніданок.\\n\",\n",
              " \"Обов'язково напиши нам, коли дістанешся Лондону.\\n\",\n",
              " 'Тяжко скаржитись на таких добрих людей.\\n',\n",
              " 'А, все як завжди.\\n',\n",
              " 'Як ви знаєте.\\n',\n",
              " 'Ранені ведмеді, як правило, дуже небезпечні.\\n',\n",
              " 'Літом у Кіото дуже жарко.\\n',\n",
              " 'Ти побачиш різницю.\\n',\n",
              " 'Коли я йшов по вулиці, я зустрів старого друга.\\n',\n",
              " 'Шум все голосніший і голосніший.\\n',\n",
              " 'Де твій батько?\\n',\n",
              " 'Погода залишалася спекотною два тижні.\\n',\n",
              " 'У нього є ще один син.\\n',\n",
              " \"Я пам'ятаю, як я зустрів його в Парижі.\\n\",\n",
              " 'Ми сиділи в повній тиші.\\n',\n",
              " 'Він швидко втомлюється.\\n',\n",
              " 'Яка гарна веселка!\\n',\n",
              " 'Я поховав свого собаку на кладовищі для домашніх тварин.\\n',\n",
              " 'Я більш не можу терпіти цей біль.\\n',\n",
              " 'На столі одне яблуко.\\n',\n",
              " 'Наді мною нависла тінь.\\n',\n",
              " 'Шклянка повна молока.\\n',\n",
              " 'Може, обговоримо це за чашкою кави?\\n',\n",
              " 'Поїзд зупиняється на кожній зупинці.\\n',\n",
              " 'Куди ти хочеш поїхати цим літом?\\n',\n",
              " 'Усі готові.\\n',\n",
              " 'У цього слова два значення.\\n',\n",
              " 'Вона каже, що дуже любить квіти.\\n',\n",
              " 'До того часу, як приїхала пожежна бригада, весь будинок згорів.\\n',\n",
              " 'Я живу з батьками.\\n',\n",
              " 'Ми одружені.\\n',\n",
              " 'Де прибиральня?\\n',\n",
              " 'Цей знак показує, що відповідь правильна.\\n',\n",
              " 'Мені шкода, що я туди пішов.\\n',\n",
              " 'Я не можу погодитися з цим планом.\\n',\n",
              " \"Він скучає по своїй сім'ї.\\n\",\n",
              " 'Його велосипед синій.\\n',\n",
              " 'У кроликів довгі вуха.\\n',\n",
              " 'Кролики висунули мордочки.\\n',\n",
              " 'Добраніч!\\n',\n",
              " 'Приємних снів!\\n',\n",
              " 'Джон живе в Нью-Йорку.\\n',\n",
              " 'Пульт від телевізора під диваном.\\n',\n",
              " 'Ці дерева посадили вони.\\n',\n",
              " 'Я Вас не розумію.\\n',\n",
              " \"«Дякую», — «На здоров'я».\\n\",\n",
              " 'Я ні в чому не винен.\\n',\n",
              " 'Я тебе кохаю.\\n',\n",
              " 'Китайські ієрогліфи дуже красиві.\\n',\n",
              " 'Ти повинен нести відповідальність за свої вчинки.\\n',\n",
              " 'Прогнозування — це спосіб сказати, що станеться, а потім пояснити, чому цього не сталося.\\n',\n",
              " 'Можна подивитися на Вашу газету?\\n',\n",
              " 'Де газета?\\n',\n",
              " 'Він пішов до крамниці.\\n',\n",
              " 'Туалетного паперу немає.\\n',\n",
              " 'Я ще не знаю своєї адреси, я певний час буду жити в подруги.\\n',\n",
              " 'Коментарів поки що нема.\\n',\n",
              " 'Я вважаю, що він має рацію.\\n',\n",
              " 'Я вважаю, що він правий.\\n',\n",
              " 'Я зробив помилку.\\n',\n",
              " 'Мюріел зараз двадцять.\\n',\n",
              " 'Нема нічого коштовнішого за кохання.\\n',\n",
              " 'Він поїхав на велосипеді.\\n',\n",
              " 'Люди б продали душу, щоб слухати концерт з цих місць.\\n',\n",
              " 'Ціну цеї книжки зменшили наполовину.\\n',\n",
              " 'Амазонка— друга по довжині ріка в світі після Ніла.\\n',\n",
              " 'Дозвольте мені привітати Вас із Вашим успіхом.\\n',\n",
              " 'Моя тітка раділа моїм успіхам.\\n',\n",
              " 'Я не знаю, що мені тепер робити.\\n',\n",
              " 'Подивіться на цей високий будинок.\\n',\n",
              " 'Це церква, у якій ми одружилися.\\n',\n",
              " 'Це костел, у якому ми одружилися.\\n',\n",
              " '«Ні», — повторив англієць.\\n',\n",
              " 'Хто дивиться за цим псом?\\n',\n",
              " 'Що тяжче, свинець чи золото?\\n',\n",
              " 'А якщо побачиш Тома, передай йому від мене вітання.\\n',\n",
              " 'Кожен раз, коли йде дощ, дах протікає.\\n',\n",
              " 'Він має два олівці: один довгий, а другий короткий.\\n',\n",
              " 'Юрист чекав на Бена.\\n',\n",
              " 'Адвокат чекав на Бена.\\n',\n",
              " 'Люди мають зрозуміти, що світ міняється.\\n',\n",
              " 'Усі діти іноді бувають нечемні.\\n',\n",
              " 'Я кинув палити.\\n',\n",
              " \"Мідорі з'їла більшу частину апельсинів.\\n\",\n",
              " 'Цей дім обігрівається сонячною енергією.\\n',\n",
              " 'Закрий за собою двері.\\n',\n",
              " 'Сподіваюся, що в мене вийде звести кінці з кінцями.\\n',\n",
              " \"Давайте вивчемо цей вірш на пам'ять.\\n\",\n",
              " \"Діснейленд було побудовано в тисяча дев'ятьсот п'ятьдесять п'ятому році.\\n\",\n",
              " 'У космосі немає повітря.\\n',\n",
              " 'Водій автобуса несе відповідальність за безпеку пасажирів.\\n',\n",
              " 'Вже 7.\\n',\n",
              " 'Ви колись були на Кюсю?\\n',\n",
              " 'Добрі традиції треба зберігати.\\n',\n",
              " \"Вона загубила гроші, сім'ю, друзів.\\n\",\n",
              " 'Тримай при собі словник.\\n',\n",
              " '«Metroid Prime 3: Corruption» — це відеогра від Nintendo, яка доступна виключно на Wii.\\n',\n",
              " 'Симетрія нудна.\\n',\n",
              " 'Коли я прийшла додому, я помітила, що загубила гаманець.\\n',\n",
              " 'Прийшовши додому, я помітив, що загубив гаманець.\\n',\n",
              " 'Будинок біля озера мій.\\n',\n",
              " 'Кажуть, кити колись жили на суші.\\n',\n",
              " 'Я планую поїхати наступного тижня до Європи.\\n',\n",
              " 'Ми використали все вугілля.\\n',\n",
              " 'Раніше, коли в нас були гульдени, усе було дешевше, ніж зараз із євро.\\n']"
            ]
          },
          "metadata": {
            "tags": []
          },
          "execution_count": 32
        }
      ]
    },
    {
      "cell_type": "code",
      "metadata": {
        "colab_type": "code",
        "id": "FGksC7l_NMi9",
        "colab": {}
      },
      "source": [
        "def translate(sentence):\n",
        "    \"\"\"\n",
        "    :args:\n",
        "        sentence - sentence in Ukrainian (str)\n",
        "    :returns:\n",
        "        translation - sentence in Russian (str)\n",
        "\n",
        "    * find ukrainian embedding for each word in sentence\n",
        "    * transform ukrainian embedding vector\n",
        "    * find nearest russian word and replace\n",
        "    \"\"\"\n",
        "    sentence.rstrip('\\n')\n",
        "    sent_list = sentence.split()\n",
        "    translated = []\n",
        "    for uk_word in sent_list:\n",
        "      translate_str = ru_emb.most_similar([np.matmul(uk_emb[uk_word], W)])\n",
        "      translated.append(translate_str[0][0])\n",
        "    return \" \".join(translated)"
      ],
      "execution_count": 0,
      "outputs": []
    },
    {
      "cell_type": "code",
      "metadata": {
        "colab_type": "code",
        "id": "4hbbMy-tNxlf",
        "colab": {
          "base_uri": "https://localhost:8080/",
          "height": 73
        },
        "outputId": "d0599e4a-b802-4d37-a7d8-0a98e79b2e05"
      },
      "source": [
        "assert translate(\".\") == \".\"\n",
        "assert translate(\"1 , 3\") == \"1 , 3\"\n",
        "assert translate(\"кіт зловив мишу\") == \"кот поймал мышку\""
      ],
      "execution_count": 51,
      "outputs": [
        {
          "output_type": "stream",
          "text": [
            "/usr/local/lib/python3.6/dist-packages/gensim/matutils.py:737: FutureWarning: Conversion of the second argument of issubdtype from `int` to `np.signedinteger` is deprecated. In future, it will be treated as `np.int64 == np.dtype(int).type`.\n",
            "  if np.issubdtype(vec.dtype, np.int):\n"
          ],
          "name": "stderr"
        }
      ]
    },
    {
      "cell_type": "markdown",
      "metadata": {
        "colab_type": "text",
        "id": "ia6I2ce7O_HI"
      },
      "source": [
        "Now you can play with your model and try to get as accurate translations as possible. **Note**: one big issue is out-of-vocabulary words. Try to think of various ways of handling it (you can start with translating each of them to a special **UNK** token and then move to more sophisticated approaches). Good luck!"
      ]
    },
    {
      "cell_type": "code",
      "metadata": {
        "colab_type": "code",
        "id": "ap1W7ZCeOAVU",
        "colab": {}
      },
      "source": [
        "for sent in uk_corpus[::10]:\n",
        "    print(translate(sent))"
      ],
      "execution_count": 0,
      "outputs": []
    },
    {
      "cell_type": "markdown",
      "metadata": {
        "id": "9AIcki93Iq4J",
        "colab_type": "text"
      },
      "source": [
        "Great! \n",
        "See second notebook for the Neural Machine Translation assignment."
      ]
    }
  ]
}